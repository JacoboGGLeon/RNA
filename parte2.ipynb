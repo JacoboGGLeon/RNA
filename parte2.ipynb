{
  "nbformat": 4,
  "nbformat_minor": 0,
  "metadata": {
    "colab": {
      "name": "parte2.ipynb",
      "provenance": [],
      "toc_visible": true,
      "include_colab_link": true
    },
    "kernelspec": {
      "name": "python3",
      "display_name": "Python 3"
    }
  },
  "cells": [
    {
      "cell_type": "markdown",
      "metadata": {
        "id": "view-in-github",
        "colab_type": "text"
      },
      "source": [
        "<a href=\"https://colab.research.google.com/github/JacoboGGLeon/RNA/blob/master/parte2.ipynb\" target=\"_parent\"><img src=\"https://colab.research.google.com/assets/colab-badge.svg\" alt=\"Open In Colab\"/></a>"
      ]
    },
    {
      "cell_type": "markdown",
      "metadata": {
        "id": "hpPQSdqlpKqQ",
        "colab_type": "text"
      },
      "source": [
        "# Clasificación supervisada con Redes Neuronales Artificiales (RNA)\n",
        "## UNAM-FES Acatlán, 24 de septiembre, A-723\n",
        "## Jacobo G. González León\n",
        "## 09:00 A 13:00\n",
        "### @jacoboggleon\n",
        "### Parte 2"
      ]
    },
    {
      "cell_type": "markdown",
      "metadata": {
        "id": "nc_EwJhHqO4l",
        "colab_type": "text"
      },
      "source": [
        "Ahora podemos crear una RNA más grande que resuelva algún problema complejo, por ejemplo: clasificar una imagen. Para eso haremos uso del dataset MNIST que consiste en números escritos del 0-9. Cada imagen es de 28x28 pixeles:\n",
        "\n",
        "<img src=\"https://docs.google.com/uc?export=download&id=1ZXbJpbCBpV6pBvXTw_ztoaKWLAqagCQf\" height= \"250\">\n",
        "\n",
        "\n"
      ]
    },
    {
      "cell_type": "markdown",
      "metadata": {
        "id": "Pp5o7gQEpd98",
        "colab_type": "text"
      },
      "source": [
        "## Impotar librerías"
      ]
    },
    {
      "cell_type": "code",
      "metadata": {
        "id": "o33Oy_w2oE3r",
        "colab_type": "code",
        "colab": {}
      },
      "source": [
        "%matplotlib inline\n",
        "%config InlineBackend.figure_format = 'retina'\n",
        "\n",
        "import numpy as np\n",
        "import torch\n",
        "\n",
        "import helper\n",
        "\n",
        "import matplotlib.pyplot as plt"
      ],
      "execution_count": 0,
      "outputs": []
    },
    {
      "cell_type": "markdown",
      "metadata": {
        "id": "hTq_BJWEsfO-",
        "colab_type": "text"
      },
      "source": [
        "El objetivo es construir una RNA que pueda \"ver\" una de estas imagenes y clasificar el dígito de la imagen."
      ]
    },
    {
      "cell_type": "markdown",
      "metadata": {
        "id": "EqxSSpv3s8At",
        "colab_type": "text"
      },
      "source": [
        "Necesitamos primero obtener los datos, en este caso a través del paquete `torchvision`"
      ]
    },
    {
      "cell_type": "code",
      "metadata": {
        "id": "sBVztubTs611",
        "colab_type": "code",
        "colab": {}
      },
      "source": [
        "from torchvision import datasets, transforms"
      ],
      "execution_count": 0,
      "outputs": []
    },
    {
      "cell_type": "markdown",
      "metadata": {
        "id": "KZkSP5W1tMQb",
        "colab_type": "text"
      },
      "source": [
        "Definimos una transformación para normalizar los datos"
      ]
    },
    {
      "cell_type": "code",
      "metadata": {
        "id": "xJIo4Ps-so05",
        "colab_type": "code",
        "outputId": "82469fb9-ea85-4dfc-9e94-b8e8d7ea5f48",
        "colab": {
          "base_uri": "https://localhost:8080/",
          "height": 85
        }
      },
      "source": [
        "transform = transforms.Compose([transforms.ToTensor(), transforms.Normalize((0.5,),(0.5,)), ])\n",
        "transform"
      ],
      "execution_count": 6,
      "outputs": [
        {
          "output_type": "execute_result",
          "data": {
            "text/plain": [
              "Compose(\n",
              "    ToTensor()\n",
              "    Normalize(mean=(0.5,), std=(0.5,))\n",
              ")"
            ]
          },
          "metadata": {
            "tags": []
          },
          "execution_count": 6
        }
      ]
    },
    {
      "cell_type": "markdown",
      "metadata": {
        "id": "Wmlz2YEwt45x",
        "colab_type": "text"
      },
      "source": [
        "Descargamos entonces los datos y los cargamos en `train`"
      ]
    },
    {
      "cell_type": "code",
      "metadata": {
        "id": "_FByy9EGtsaw",
        "colab_type": "code",
        "outputId": "fe1e73c4-67a4-4f3d-bb93-559e78c718e7",
        "colab": {
          "base_uri": "https://localhost:8080/",
          "height": 343
        }
      },
      "source": [
        "trainset= datasets.MNIST('~/.pytorch/MNIST_data/', download=True, train=True, transform=transform)\n",
        "trainset"
      ],
      "execution_count": 7,
      "outputs": [
        {
          "output_type": "stream",
          "text": [
            "  0%|          | 0/9912422 [00:00<?, ?it/s]"
          ],
          "name": "stderr"
        },
        {
          "output_type": "stream",
          "text": [
            "Downloading http://yann.lecun.com/exdb/mnist/train-images-idx3-ubyte.gz to /root/.pytorch/MNIST_data/MNIST/raw/train-images-idx3-ubyte.gz\n"
          ],
          "name": "stdout"
        },
        {
          "output_type": "stream",
          "text": [
            "9920512it [00:00, 26915327.68it/s]                            \n"
          ],
          "name": "stderr"
        },
        {
          "output_type": "stream",
          "text": [
            "Extracting /root/.pytorch/MNIST_data/MNIST/raw/train-images-idx3-ubyte.gz\n"
          ],
          "name": "stdout"
        },
        {
          "output_type": "stream",
          "text": [
            "32768it [00:00, 445005.16it/s]\n",
            "  1%|          | 16384/1648877 [00:00<00:11, 143256.90it/s]"
          ],
          "name": "stderr"
        },
        {
          "output_type": "stream",
          "text": [
            "Downloading http://yann.lecun.com/exdb/mnist/train-labels-idx1-ubyte.gz to /root/.pytorch/MNIST_data/MNIST/raw/train-labels-idx1-ubyte.gz\n",
            "Extracting /root/.pytorch/MNIST_data/MNIST/raw/train-labels-idx1-ubyte.gz\n",
            "Downloading http://yann.lecun.com/exdb/mnist/t10k-images-idx3-ubyte.gz to /root/.pytorch/MNIST_data/MNIST/raw/t10k-images-idx3-ubyte.gz\n"
          ],
          "name": "stdout"
        },
        {
          "output_type": "stream",
          "text": [
            "1654784it [00:00, 5658270.96it/s]                           \n",
            "8192it [00:00, 182352.33it/s]\n"
          ],
          "name": "stderr"
        },
        {
          "output_type": "stream",
          "text": [
            "Extracting /root/.pytorch/MNIST_data/MNIST/raw/t10k-images-idx3-ubyte.gz\n",
            "Downloading http://yann.lecun.com/exdb/mnist/t10k-labels-idx1-ubyte.gz to /root/.pytorch/MNIST_data/MNIST/raw/t10k-labels-idx1-ubyte.gz\n",
            "Extracting /root/.pytorch/MNIST_data/MNIST/raw/t10k-labels-idx1-ubyte.gz\n",
            "Processing...\n",
            "Done!\n"
          ],
          "name": "stdout"
        },
        {
          "output_type": "execute_result",
          "data": {
            "text/plain": [
              "Dataset MNIST\n",
              "    Number of datapoints: 60000\n",
              "    Root location: /root/.pytorch/MNIST_data/\n",
              "    Split: Train"
            ]
          },
          "metadata": {
            "tags": []
          },
          "execution_count": 7
        }
      ]
    },
    {
      "cell_type": "markdown",
      "metadata": {
        "id": "boKl35dXxcWp",
        "colab_type": "text"
      },
      "source": [
        "`batch size` es el número de imagenes es el número de imagenes que vamos a tener en cada iteración a través de nuestra RNA. `shuffle=true` nos permite colocar aleatoriamente nuestros datos. "
      ]
    },
    {
      "cell_type": "code",
      "metadata": {
        "id": "kiS67jjvuMgI",
        "colab_type": "code",
        "outputId": "57aa5c11-e9ff-4320-f82d-601e14f49364",
        "colab": {
          "base_uri": "https://localhost:8080/",
          "height": 34
        }
      },
      "source": [
        "trainloader = torch.utils.data.DataLoader(trainset, batch_size=64, shuffle=True)\n",
        "trainloader"
      ],
      "execution_count": 8,
      "outputs": [
        {
          "output_type": "execute_result",
          "data": {
            "text/plain": [
              "<torch.utils.data.dataloader.DataLoader at 0x7fc66c44f828>"
            ]
          },
          "metadata": {
            "tags": []
          },
          "execution_count": 8
        }
      ]
    },
    {
      "cell_type": "markdown",
      "metadata": {
        "id": "Z9IPZG4-uhtD",
        "colab_type": "text"
      },
      "source": [
        "Tenemos ahora los datos de entrenamiento en `trainloader` y podemos checar los datos"
      ]
    },
    {
      "cell_type": "code",
      "metadata": {
        "id": "E-rCQC01u8fM",
        "colab_type": "code",
        "outputId": "73a71da5-e87c-434c-c540-c17f63e148c2",
        "colab": {
          "base_uri": "https://localhost:8080/",
          "height": 187
        }
      },
      "source": [
        "trainloader.dataset.classes"
      ],
      "execution_count": 9,
      "outputs": [
        {
          "output_type": "execute_result",
          "data": {
            "text/plain": [
              "['0 - zero',\n",
              " '1 - one',\n",
              " '2 - two',\n",
              " '3 - three',\n",
              " '4 - four',\n",
              " '5 - five',\n",
              " '6 - six',\n",
              " '7 - seven',\n",
              " '8 - eight',\n",
              " '9 - nine']"
            ]
          },
          "metadata": {
            "tags": []
          },
          "execution_count": 9
        }
      ]
    },
    {
      "cell_type": "code",
      "metadata": {
        "id": "MjEptnH7wDLp",
        "colab_type": "code",
        "outputId": "3101ea3d-b6c8-41a4-847f-e2f072ff22c3",
        "colab": {
          "base_uri": "https://localhost:8080/",
          "height": 34
        }
      },
      "source": [
        "trainloader.dataset.targets"
      ],
      "execution_count": 10,
      "outputs": [
        {
          "output_type": "execute_result",
          "data": {
            "text/plain": [
              "tensor([5, 0, 4,  ..., 5, 6, 8])"
            ]
          },
          "metadata": {
            "tags": []
          },
          "execution_count": 10
        }
      ]
    },
    {
      "cell_type": "markdown",
      "metadata": {
        "id": "16xsdaG6yAgW",
        "colab_type": "text"
      },
      "source": [
        "Tenemos los datos de entrenamiento cargados en trainloader y lo convertimos en un iterador con iter `trainloader`. Más tarde, usaremos esto para recorrer el conjunto de datos para entrenamiento."
      ]
    },
    {
      "cell_type": "code",
      "metadata": {
        "id": "h5My7Ca7wyad",
        "colab_type": "code",
        "outputId": "7d3855a7-1374-46d4-916d-ac35f5fd3eb3",
        "colab": {
          "base_uri": "https://localhost:8080/",
          "height": 34
        }
      },
      "source": [
        "dataiter = iter(trainloader)\n",
        "dataiter"
      ],
      "execution_count": 11,
      "outputs": [
        {
          "output_type": "execute_result",
          "data": {
            "text/plain": [
              "<torch.utils.data.dataloader._DataLoaderIter at 0x7fc66c46b518>"
            ]
          },
          "metadata": {
            "tags": []
          },
          "execution_count": 11
        }
      ]
    },
    {
      "cell_type": "code",
      "metadata": {
        "id": "mvMxOKINyIHl",
        "colab_type": "code",
        "colab": {}
      },
      "source": [
        "images, labels = dataiter.next()"
      ],
      "execution_count": 0,
      "outputs": []
    },
    {
      "cell_type": "markdown",
      "metadata": {
        "id": "HnVYMq_fyR5X",
        "colab_type": "text"
      },
      "source": [
        "Imprimimos el tipo de dato"
      ]
    },
    {
      "cell_type": "code",
      "metadata": {
        "id": "3FzB2ui5yLtn",
        "colab_type": "code",
        "outputId": "bd3d3ed3-a70f-4a42-9d94-3d25b795efc7",
        "colab": {
          "base_uri": "https://localhost:8080/",
          "height": 34
        }
      },
      "source": [
        "print(type(images))"
      ],
      "execution_count": 13,
      "outputs": [
        {
          "output_type": "stream",
          "text": [
            "<class 'torch.Tensor'>\n"
          ],
          "name": "stdout"
        }
      ]
    },
    {
      "cell_type": "markdown",
      "metadata": {
        "id": "78Xu7KFiyYQ3",
        "colab_type": "text"
      },
      "source": [
        "Las imagenes, que ahora son tensores, tienen las siguientes características:\n",
        "* 64 imagenes por batch\n",
        "* 1 canal de color\n",
        "* 28x28 pixeles"
      ]
    },
    {
      "cell_type": "code",
      "metadata": {
        "id": "AHnQBpSZyTKH",
        "colab_type": "code",
        "outputId": "c9e72553-1fc4-4dde-de19-3e925e1c4122",
        "colab": {
          "base_uri": "https://localhost:8080/",
          "height": 34
        }
      },
      "source": [
        "print(images.shape)"
      ],
      "execution_count": 14,
      "outputs": [
        {
          "output_type": "stream",
          "text": [
            "torch.Size([64, 1, 28, 28])\n"
          ],
          "name": "stdout"
        }
      ]
    },
    {
      "cell_type": "markdown",
      "metadata": {
        "id": "u00SiqYlyzlo",
        "colab_type": "text"
      },
      "source": [
        "Las características de la variable `labels` será de 64 clases pues son 64 imagenes en cada batch"
      ]
    },
    {
      "cell_type": "code",
      "metadata": {
        "id": "KDEb77yEyWuP",
        "colab_type": "code",
        "outputId": "b00ba3e2-a48e-4a66-d51c-0c37736e4d02",
        "colab": {
          "base_uri": "https://localhost:8080/",
          "height": 34
        }
      },
      "source": [
        "print(labels.shape)"
      ],
      "execution_count": 15,
      "outputs": [
        {
          "output_type": "stream",
          "text": [
            "torch.Size([64])\n"
          ],
          "name": "stdout"
        }
      ]
    },
    {
      "cell_type": "markdown",
      "metadata": {
        "id": "wVrANvwd0Wn2",
        "colab_type": "text"
      },
      "source": [
        "Podemos checar cómo se ve una imagen"
      ]
    },
    {
      "cell_type": "code",
      "metadata": {
        "id": "lA7aZTS-yys3",
        "colab_type": "code",
        "outputId": "f027be74-5708-453f-c2e7-47406e3dfc50",
        "colab": {
          "base_uri": "https://localhost:8080/",
          "height": 284
        }
      },
      "source": [
        "plt.imshow(images[1].numpy().squeeze(), cmap='Greys_r')"
      ],
      "execution_count": 16,
      "outputs": [
        {
          "output_type": "execute_result",
          "data": {
            "text/plain": [
              "<matplotlib.image.AxesImage at 0x7fc66b603048>"
            ]
          },
          "metadata": {
            "tags": []
          },
          "execution_count": 16
        },
        {
          "output_type": "display_data",
          "data": {
            "image/png": "[encoded data removed]",
            "text/plain": [
              "<Figure size 432x288 with 1 Axes>"
            ]
          },
          "metadata": {
            "tags": [],
            "image/png": {
              "width": 253,
              "height": 250
            }
          }
        }
      ]
    },
    {
      "cell_type": "markdown",
      "metadata": {
        "id": "PgPrbd7a1Drg",
        "colab_type": "text"
      },
      "source": [
        "Primero vamos a revisar cómo construir una simple RNA para este conjunto de datos usando pesos `weights` y \n",
        "multiplicación de matrices. Después veremos cómo utilizar el módulo `nn` de PyTorch para agilizar el cálculo."
      ]
    },
    {
      "cell_type": "markdown",
      "metadata": {
        "id": "jpwA7QFz1tvP",
        "colab_type": "text"
      },
      "source": [
        "En una red completamente conectada (fully-connected) o también llamada red densa, cada neurona de cada capa está conectada a cada neurona de las siguientes capas. Entonces todas las entradas de cada capa deben ser un vector unidimensional. \n",
        "\n",
        "En nuestro caso tenemos imagenes de 28x28 pixeles, entonces debemos convertirlo a un vector unidimensional. Proyectando el tamaño del vector, será de tamaño 784 (28x28). Esta conversión se llama `flattening`."
      ]
    },
    {
      "cell_type": "markdown",
      "metadata": {
        "id": "8xvbBMwU2IfL",
        "colab_type": "text"
      },
      "source": [
        "En el ejercicio anterior teníamos una simple RNA con una única neurona de salida. En este caso requerimos 10 neuronas de salida para clasificar los 10 dígitos de nuestros `labels`."
      ]
    },
    {
      "cell_type": "markdown",
      "metadata": {
        "id": "30qIaIChfE-5",
        "colab_type": "text"
      },
      "source": [
        "# RNA "
      ]
    },
    {
      "cell_type": "markdown",
      "metadata": {
        "id": "RZ8UF-Y92b6j",
        "colab_type": "text"
      },
      "source": [
        "## Problema\n",
        "\n",
        "Convertir de 2D a 1D a través de `flattening` las imagenes `images`. Entonces construir una RNA multicapa con las siguientes caracteristicas: \n",
        "* 784 neuronas de entrada (28x28 pixeles) \n",
        "* 256 neuronas de operación en la capa oculta\n",
        "* 10 neuronas de salida.\n"
      ]
    },
    {
      "cell_type": "markdown",
      "metadata": {
        "id": "0ujDaTn79Si8",
        "colab_type": "text"
      },
      "source": [
        "## Solución\n",
        "\n",
        "Utilizar tensores aleatorios para los pesos `weights` y sesgos `bias`. Por ahora seguiremos utilizando la función de activación sigmoide."
      ]
    },
    {
      "cell_type": "code",
      "metadata": {
        "id": "TZLoIJFkzloZ",
        "colab_type": "code",
        "colab": {}
      },
      "source": [
        "def activation(x):\n",
        "  return 1/(1+torch.exp(-x))"
      ],
      "execution_count": 0,
      "outputs": []
    },
    {
      "cell_type": "markdown",
      "metadata": {
        "id": "z90ltv364JA3",
        "colab_type": "text"
      },
      "source": [
        "Creamos el contenedor de 2D -> 1D que serviran como entrada a la RNA a partir de nuestras imagenes"
      ]
    },
    {
      "cell_type": "code",
      "metadata": {
        "id": "jZe8xLvqfWvd",
        "colab_type": "code",
        "colab": {
          "base_uri": "https://localhost:8080/",
          "height": 34
        },
        "outputId": "79e6bec1-bc6b-4bad-81bc-e673d3ebf909"
      },
      "source": [
        "images.shape"
      ],
      "execution_count": 21,
      "outputs": [
        {
          "output_type": "execute_result",
          "data": {
            "text/plain": [
              "torch.Size([64, 1, 28, 28])"
            ]
          },
          "metadata": {
            "tags": []
          },
          "execution_count": 21
        }
      ]
    },
    {
      "cell_type": "code",
      "metadata": {
        "id": "HjSVZBAx1CHq",
        "colab_type": "code",
        "outputId": "3b8a4492-c4e2-4ea0-d533-3bff91cc4dde",
        "colab": {
          "base_uri": "https://localhost:8080/",
          "height": 136
        }
      },
      "source": [
        "inputs = images.view(images.shape[0], -1)#748\n",
        "inputs"
      ],
      "execution_count": 18,
      "outputs": [
        {
          "output_type": "execute_result",
          "data": {
            "text/plain": [
              "tensor([[-1., -1., -1.,  ..., -1., -1., -1.],\n",
              "        [-1., -1., -1.,  ..., -1., -1., -1.],\n",
              "        [-1., -1., -1.,  ..., -1., -1., -1.],\n",
              "        ...,\n",
              "        [-1., -1., -1.,  ..., -1., -1., -1.],\n",
              "        [-1., -1., -1.,  ..., -1., -1., -1.],\n",
              "        [-1., -1., -1.,  ..., -1., -1., -1.]])"
            ]
          },
          "metadata": {
            "tags": []
          },
          "execution_count": 18
        }
      ]
    },
    {
      "cell_type": "markdown",
      "metadata": {
        "id": "S_lfKjwU4w4U",
        "colab_type": "text"
      },
      "source": [
        "Cramos los parámetros pesos `weights` y sesgos `bias` con valores aleatorios"
      ]
    },
    {
      "cell_type": "code",
      "metadata": {
        "id": "s4s4seaL4Q5H",
        "colab_type": "code",
        "outputId": "d4bd5fbc-a6ab-412e-ad5c-44da234dcbe2",
        "colab": {
          "base_uri": "https://localhost:8080/",
          "height": 136
        }
      },
      "source": [
        "W1 = torch.randn(784, 256)\n",
        "W1"
      ],
      "execution_count": 22,
      "outputs": [
        {
          "output_type": "execute_result",
          "data": {
            "text/plain": [
              "tensor([[-0.2592,  0.6770, -1.2412,  ...,  0.8847,  0.4188,  1.9153],\n",
              "        [ 0.4264, -0.9316, -0.8064,  ...,  0.1896, -0.4848,  1.4280],\n",
              "        [ 1.9250,  1.6154, -0.3922,  ..., -1.5537, -1.0404,  0.8354],\n",
              "        ...,\n",
              "        [-0.3070,  0.4445,  0.7139,  ...,  0.9762,  1.3539, -1.6803],\n",
              "        [ 0.8602,  0.6207,  1.5383,  ...,  1.5025, -1.1201, -0.2183],\n",
              "        [-1.2521,  0.9270, -0.4456,  ...,  1.4104,  0.4199, -1.2772]])"
            ]
          },
          "metadata": {
            "tags": []
          },
          "execution_count": 22
        }
      ]
    },
    {
      "cell_type": "code",
      "metadata": {
        "id": "YtU0Zwqv5Adl",
        "colab_type": "code",
        "outputId": "3d9263f7-0295-46ea-91c4-77e15b4570c3",
        "colab": {
          "base_uri": "https://localhost:8080/",
          "height": 136
        }
      },
      "source": [
        "W2 = torch.randn(256, 10)\n",
        "W2"
      ],
      "execution_count": 23,
      "outputs": [
        {
          "output_type": "execute_result",
          "data": {
            "text/plain": [
              "tensor([[-0.8065, -0.9373,  0.3554,  ...,  0.1062,  1.7810, -0.6692],\n",
              "        [-1.6116,  1.6495, -1.5544,  ...,  0.8025, -0.0781,  0.2477],\n",
              "        [-0.1455, -0.2576, -1.5280,  ...,  0.3326, -0.3540, -0.7238],\n",
              "        ...,\n",
              "        [ 1.6874, -0.7659,  0.4025,  ..., -0.7589, -1.4641,  1.6798],\n",
              "        [-1.0245,  0.8975, -0.5665,  ...,  1.6548,  0.1798,  0.5534],\n",
              "        [ 0.2045,  0.3932, -0.3048,  ..., -0.1322, -0.3805,  0.5560]])"
            ]
          },
          "metadata": {
            "tags": []
          },
          "execution_count": 23
        }
      ]
    },
    {
      "cell_type": "code",
      "metadata": {
        "id": "Fdqcosur5HGI",
        "colab_type": "code",
        "outputId": "e35fc01f-d8d4-4819-8cef-6efeb56d2075",
        "colab": {
          "base_uri": "https://localhost:8080/",
          "height": 901
        }
      },
      "source": [
        "B1 = torch.randn(256)\n",
        "B1"
      ],
      "execution_count": 24,
      "outputs": [
        {
          "output_type": "execute_result",
          "data": {
            "text/plain": [
              "tensor([-2.6959e-01, -6.4401e-01,  1.5304e+00,  4.4925e-01, -1.1948e-01,\n",
              "         1.3948e+00,  2.4756e+00,  1.9185e-01,  4.5823e-01,  4.1869e-01,\n",
              "         6.7490e-01,  3.6038e-02, -1.9226e+00, -1.4161e+00, -7.1506e-02,\n",
              "         2.7481e-01, -1.6912e+00,  1.1585e+00,  7.6433e-01,  3.4895e-01,\n",
              "        -1.3445e-01, -3.6799e-01,  2.6727e-01,  6.5495e-01, -1.7657e+00,\n",
              "        -1.1383e+00, -4.1337e-01, -3.6668e-01,  4.9147e-01, -1.5289e+00,\n",
              "        -1.2815e+00,  9.3821e-01,  8.6951e-01, -6.1774e-01, -1.1655e-02,\n",
              "        -4.0782e-01,  6.1863e-02, -8.0903e-01, -7.6594e-01,  1.9255e+00,\n",
              "        -7.7985e-01, -4.3084e-01,  1.7867e+00,  4.6749e-01,  7.9599e-01,\n",
              "        -1.4677e+00, -1.0446e+00, -2.0511e-01, -5.8940e-01,  1.3537e+00,\n",
              "        -9.2334e-01, -1.0935e+00, -1.5050e+00, -1.8980e+00, -4.6774e-01,\n",
              "        -1.5996e+00,  9.1733e-01, -1.1695e+00, -1.3600e+00,  6.2143e-01,\n",
              "         1.6258e+00, -1.5024e-01, -1.1203e+00, -9.8463e-01,  3.4021e-02,\n",
              "         2.1195e+00,  8.2358e-01, -1.1446e+00, -2.0071e-01, -2.1837e-02,\n",
              "         1.0872e-02, -1.3543e-01,  1.7800e-01,  7.5218e-01, -7.4031e-01,\n",
              "         1.6386e+00, -5.2864e-01,  1.8570e+00,  5.5015e-01, -8.1535e-01,\n",
              "         6.8174e-01,  1.3391e-01,  2.1740e-01, -4.3371e-01, -7.7195e-01,\n",
              "         1.1333e+00,  1.2098e+00,  1.2110e+00, -1.7044e+00, -7.9789e-01,\n",
              "         6.0047e-01,  1.6203e+00,  1.6558e+00, -2.3008e-01, -3.9713e-01,\n",
              "         2.4858e-02, -4.7544e-02,  1.0733e+00, -4.2792e-01, -3.8925e-01,\n",
              "         9.1547e-01,  1.5120e+00,  2.9948e-01, -5.0753e-01,  1.7230e+00,\n",
              "         4.3920e-01,  8.1538e-01, -2.0763e-01, -3.0921e-01, -4.4860e-01,\n",
              "         4.3428e-02, -1.3188e+00,  9.0449e-01, -6.2334e-01,  9.4084e-01,\n",
              "         3.4883e-01, -1.2920e+00, -2.1903e+00, -2.1219e+00, -1.5836e+00,\n",
              "        -1.5534e+00,  3.9199e-01,  1.6458e+00, -1.9587e-01,  2.2658e+00,\n",
              "        -2.0735e-01,  2.4706e+00,  8.3178e-01,  3.0234e-01, -8.8504e-01,\n",
              "         7.9603e-01, -8.9510e-01,  1.0482e+00, -9.4074e-01, -8.9822e-01,\n",
              "         1.1059e+00, -1.3564e-01, -1.5496e+00,  2.3501e+00,  9.9572e-02,\n",
              "         3.8837e-01, -2.1133e-01,  3.9471e-01,  7.2143e-02,  7.3421e-02,\n",
              "        -5.0962e-01, -1.8157e+00, -2.5250e-01, -1.1591e-01, -5.5539e-01,\n",
              "         1.4744e+00, -1.4174e+00, -8.2033e-01, -1.1077e+00, -4.0090e-01,\n",
              "        -3.1328e-01,  1.5833e-01,  8.5190e-01, -2.5315e-01, -8.1786e-01,\n",
              "        -1.1888e+00, -2.0210e+00,  1.4221e+00,  2.7672e-02,  7.4985e-01,\n",
              "         1.6484e+00, -1.4963e+00, -1.3453e+00, -3.6097e-01,  1.7473e+00,\n",
              "         6.6394e-01,  2.1461e-02, -1.1971e+00,  8.6895e-01, -4.5932e-01,\n",
              "        -6.3431e-01,  7.7632e-01,  2.0440e+00, -6.6848e-01, -3.3550e-01,\n",
              "        -4.3096e-01,  3.7578e-01, -1.0501e+00,  1.3072e+00,  1.1882e-02,\n",
              "         1.3520e+00,  6.6113e-01, -2.1234e-01,  1.9732e+00,  9.7334e-01,\n",
              "         1.6319e+00,  1.1268e+00, -1.0637e+00, -5.0447e-02, -8.8548e-01,\n",
              "        -2.1079e-01,  4.0701e-01, -8.8253e-01, -1.1990e+00, -1.5138e-01,\n",
              "        -1.4007e-01,  1.3025e-01,  1.2568e+00,  2.3077e+00,  1.9092e+00,\n",
              "        -9.3487e-01,  2.6577e-01, -2.2256e-01,  7.1946e-01,  1.7608e+00,\n",
              "         2.0395e-01, -1.8698e+00,  1.9292e-01,  1.0256e+00,  3.3332e-03,\n",
              "         1.1733e-02, -7.8752e-01, -7.2005e-01,  4.8954e-01, -2.3438e-01,\n",
              "        -5.0191e-01,  6.5822e-02, -4.6357e-04,  8.3932e-02,  1.4559e+00,\n",
              "         1.3712e-01, -3.6964e-01,  1.0512e+00, -8.3757e-01,  2.9610e-01,\n",
              "        -1.7551e+00, -4.2060e-01,  9.3518e-02, -1.7987e+00, -5.8320e-01,\n",
              "         7.0153e-01, -9.4922e-02, -2.4289e-01,  1.6907e+00, -4.7968e-01,\n",
              "        -8.2829e-02, -1.2455e+00, -8.1117e-01, -1.0122e+00, -4.4947e-01,\n",
              "        -1.3516e+00,  3.1690e-01,  9.1149e-01,  1.2260e-01,  2.4062e-01,\n",
              "        -3.0388e-01,  4.4057e-01,  1.4944e+00,  9.7906e-01,  2.1527e-01,\n",
              "        -4.3310e-01])"
            ]
          },
          "metadata": {
            "tags": []
          },
          "execution_count": 24
        }
      ]
    },
    {
      "cell_type": "code",
      "metadata": {
        "id": "YX7J3lw85m7P",
        "colab_type": "code",
        "outputId": "5f0827f3-80d8-49aa-dae3-347465067d79",
        "colab": {
          "base_uri": "https://localhost:8080/",
          "height": 51
        }
      },
      "source": [
        "B2 = torch.randn(10)\n",
        "B2"
      ],
      "execution_count": 25,
      "outputs": [
        {
          "output_type": "execute_result",
          "data": {
            "text/plain": [
              "tensor([-0.3139, -0.7479, -0.2983, -1.3433,  0.6957,  0.1375, -0.5109,  0.3100,\n",
              "        -0.2807, -0.5398])"
            ]
          },
          "metadata": {
            "tags": []
          },
          "execution_count": 25
        }
      ]
    },
    {
      "cell_type": "code",
      "metadata": {
        "id": "BLlJGNNA5rQh",
        "colab_type": "code",
        "outputId": "98b4d6d6-367a-41ff-dbd6-a0707dbd4b79",
        "colab": {
          "base_uri": "https://localhost:8080/",
          "height": 238
        }
      },
      "source": [
        "h = activation(torch.mm(inputs, W1) + B1)\n",
        "h"
      ],
      "execution_count": 26,
      "outputs": [
        {
          "output_type": "execute_result",
          "data": {
            "text/plain": [
              "tensor([[1.0000e+00, 1.7669e-03, 9.0182e-01,  ..., 9.8231e-01, 1.2848e-07,\n",
              "         1.0000e+00],\n",
              "        [1.0000e+00, 9.9764e-01, 6.0160e-01,  ..., 6.0020e-02, 1.0000e+00,\n",
              "         1.0000e+00],\n",
              "        [1.0000e+00, 1.0000e+00, 8.7951e-03,  ..., 9.9991e-01, 4.9174e-03,\n",
              "         9.8722e-01],\n",
              "        ...,\n",
              "        [1.0000e+00, 9.6994e-01, 1.9901e-02,  ..., 1.0000e+00, 9.9578e-01,\n",
              "         1.0000e+00],\n",
              "        [1.0000e+00, 9.9984e-01, 9.8795e-01,  ..., 1.0000e+00, 1.0512e-10,\n",
              "         7.9517e-03],\n",
              "        [1.0000e+00, 1.0000e+00, 9.9999e-01,  ..., 1.0000e+00, 9.9987e-01,\n",
              "         8.6819e-01]])"
            ]
          },
          "metadata": {
            "tags": []
          },
          "execution_count": 26
        }
      ]
    },
    {
      "cell_type": "code",
      "metadata": {
        "id": "IWZPJ4GC5w9H",
        "colab_type": "code",
        "outputId": "74c3ea05-cd62-4c08-ebf8-d94cdb6e7a42",
        "colab": {
          "base_uri": "https://localhost:8080/",
          "height": 34
        }
      },
      "source": [
        "out = torch.mm(h, W2) + B2\n",
        "out.shape"
      ],
      "execution_count": 28,
      "outputs": [
        {
          "output_type": "execute_result",
          "data": {
            "text/plain": [
              "torch.Size([64, 10])"
            ]
          },
          "metadata": {
            "tags": []
          },
          "execution_count": 28
        }
      ]
    },
    {
      "cell_type": "markdown",
      "metadata": {
        "id": "1O_yJssF602C",
        "colab_type": "text"
      },
      "source": [
        "Ahora que tenemos las 10 neuronas de salida, podemos clasificar nuestras imagenes (a través de los vectores 1D de 728 pixeles) y obtener una distribución de probabilidad de las clases para que la RNA nos diga cuál dígito es:\n",
        "\n",
        "\n",
        "<img src=\"https://docs.google.com/uc?export=download&id=1gd_YRsW-6fpsncrZhj67adFwe1WLO851\" height= \"250\">\n",
        "\n",
        "En esta imagen se puede ver que la probabilidad es casi la misma, es difícil para la RNA definir cuál número es. Esto representa una RNA no entrenada, aún no ha visto ningún dato, por lo que solo devuelve una distribución uniforme con probabilidades iguales para cada clase.\n",
        "\n",
        "Para calcular entonces la distribución de probabilidad, usaremos la función `softmax`:\n",
        "\n",
        "$$\n",
        "\\Large \\sigma(x_i) = \\cfrac{e^{x_i}}{\\sum_k^K{e^{x_k}}}\n",
        "$$\n",
        "\n",
        "Lo que esto hace es \"aplastar\" cada entrada $x_1$ entre $0$ y $1$ y normaliza los valores para darle una distribución de probabilidad adecuada donde las probabilidades suman uno.\n",
        "\n"
      ]
    },
    {
      "cell_type": "markdown",
      "metadata": {
        "id": "Ouc3Onpu9ZUW",
        "colab_type": "text"
      },
      "source": [
        "## Problema\n",
        "\n",
        "Implementar la función `softmax` para encontrar la distribución de probabilidad para cada ejemplo en el batch"
      ]
    },
    {
      "cell_type": "markdown",
      "metadata": {
        "id": "XknZbHe098OZ",
        "colab_type": "text"
      },
      "source": [
        "## Solución"
      ]
    },
    {
      "cell_type": "code",
      "metadata": {
        "id": "L5ybamrA59-_",
        "colab_type": "code",
        "colab": {}
      },
      "source": [
        "def softmax(x):\n",
        "  return torch.exp(x)/torch.sum(torch.exp(x), dim=1).view(-1, 1)#748x1"
      ],
      "execution_count": 0,
      "outputs": []
    },
    {
      "cell_type": "code",
      "metadata": {
        "id": "b1vUJ5SR-EIR",
        "colab_type": "code",
        "outputId": "fc8f0379-f007-4a9f-c3f8-187072645b51",
        "colab": {
          "base_uri": "https://localhost:8080/",
          "height": 34
        }
      },
      "source": [
        "probabilities = softmax(out)\n",
        "probabilities.shape"
      ],
      "execution_count": 31,
      "outputs": [
        {
          "output_type": "execute_result",
          "data": {
            "text/plain": [
              "torch.Size([64, 10])"
            ]
          },
          "metadata": {
            "tags": []
          },
          "execution_count": 31
        }
      ]
    },
    {
      "cell_type": "markdown",
      "metadata": {
        "id": "R-Z_fHbq-Scz",
        "colab_type": "text"
      },
      "source": [
        "El tamaño de las `probabilities` debe ser de `([64,10])` "
      ]
    },
    {
      "cell_type": "code",
      "metadata": {
        "id": "-GiN7YEw-Jue",
        "colab_type": "code",
        "outputId": "18eed163-792e-4036-e9e0-dd8b1cae7e0c",
        "colab": {
          "base_uri": "https://localhost:8080/",
          "height": 34
        }
      },
      "source": [
        "probabilities.shape"
      ],
      "execution_count": 32,
      "outputs": [
        {
          "output_type": "execute_result",
          "data": {
            "text/plain": [
              "torch.Size([64, 10])"
            ]
          },
          "metadata": {
            "tags": []
          },
          "execution_count": 32
        }
      ]
    },
    {
      "cell_type": "markdown",
      "metadata": {
        "id": "rWeurTqa-kWv",
        "colab_type": "text"
      },
      "source": [
        "La suma de las probabilidades debe dar 1"
      ]
    },
    {
      "cell_type": "code",
      "metadata": {
        "id": "UZPJgfjL-P-6",
        "colab_type": "code",
        "outputId": "2c351e83-e4ef-45c1-878b-acc719211b62",
        "colab": {
          "base_uri": "https://localhost:8080/",
          "height": 153
        }
      },
      "source": [
        "probabilities.sum(dim=1)"
      ],
      "execution_count": 33,
      "outputs": [
        {
          "output_type": "execute_result",
          "data": {
            "text/plain": [
              "tensor([1.0000, 1.0000, 1.0000, 1.0000, 1.0000, 1.0000, 1.0000, 1.0000, 1.0000,\n",
              "        1.0000, 1.0000, 1.0000, 1.0000, 1.0000, 1.0000, 1.0000, 1.0000, 1.0000,\n",
              "        1.0000, 1.0000, 1.0000, 1.0000, 1.0000, 1.0000, 1.0000, 1.0000, 1.0000,\n",
              "        1.0000, 1.0000, 1.0000, 1.0000, 1.0000, 1.0000, 1.0000, 1.0000, 1.0000,\n",
              "        1.0000, 1.0000, 1.0000, 1.0000, 1.0000, 1.0000, 1.0000, 1.0000, 1.0000,\n",
              "        1.0000, 1.0000, 1.0000, 1.0000, 1.0000, 1.0000, 1.0000, 1.0000, 1.0000,\n",
              "        1.0000, 1.0000, 1.0000, 1.0000, 1.0000, 1.0000, 1.0000, 1.0000, 1.0000,\n",
              "        1.0000])"
            ]
          },
          "metadata": {
            "tags": []
          },
          "execution_count": 33
        }
      ]
    },
    {
      "cell_type": "markdown",
      "metadata": {
        "id": "FUxSwIfu-3GV",
        "colab_type": "text"
      },
      "source": [
        "## Problema\n",
        "\n",
        "Construir una RNA utilizando el módulo nn para crear redes de manera más simple. Recordando las características de nuestra RNA:\n",
        "* 784 neuronas de entrada `inputs` (64x64 pixeles de 2D -> 1D)\n",
        "* 256 neuronas de operación en la capa oculta\n",
        "* 10 neuronas en la capa de salida\n",
        "* Implementar la función `softmax`"
      ]
    },
    {
      "cell_type": "code",
      "metadata": {
        "id": "0DXL9RJt-heT",
        "colab_type": "code",
        "colab": {}
      },
      "source": [
        "from torch import nn"
      ],
      "execution_count": 0,
      "outputs": []
    },
    {
      "cell_type": "code",
      "metadata": {
        "id": "9to6o-UYAJv_",
        "colab_type": "code",
        "colab": {}
      },
      "source": [
        "class Network(nn.Module):\n",
        "  def __init__(self):\n",
        "    super().__init__()\n",
        "    \n",
        "    #Definimos las 784 neuronas de operación en la capa oculta en un vector de 1D\n",
        "    self.hidden = nn.Linear(784, 256)\n",
        "    \n",
        "    #Definimos las 10 neuronas en la capa de salida e implementamos `softmax`\n",
        "    self.output = nn.Linear(256, 10)\n",
        "    \n",
        "    #Definimos las funciones de activación sigmoide y softmax\n",
        "    self.sigmoid = nn.Sigmoid()\n",
        "    self.softmax = nn.Softmax(dim=1)\n",
        "    \n",
        "  def forward(self, x):\n",
        "    \n",
        "    #Procesamos las entradas \n",
        "    x = self.hidden(x)\n",
        "    x = self.sigmoid(x)\n",
        "    x = self.output(x)\n",
        "    x = self.softmax(x)\n",
        "    \n",
        "    return x"
      ],
      "execution_count": 0,
      "outputs": []
    },
    {
      "cell_type": "markdown",
      "metadata": {
        "id": "ICbHoDwFCBhB",
        "colab_type": "text"
      },
      "source": [
        "Yendo paso por paso en lo que acabamos de hacer\n",
        "\n",
        "```python \n",
        "class Network(nn.Module):\n",
        "```\n",
        "Nos permite heredar las propiedades de `nn.Module`. Combinado con `super().__init__` creamos una clase que genera una arquitectura y métodos y atributos.\n",
        "\n",
        "```python\n",
        "self.hidden = nn.Linear(784, 256)\n",
        "```\n",
        "Crea un módulo para la transformación lineal $xW+b$, con 784 neuronas de entrada y 256 neuronas de operación en la capa oculta, asignada a `self.hidden`. El módulo automáticamente crea los tensores con los pesos `weights` y sesgos `bias` a través del método `forward`. Una vez que se crearon los tensores de los parámetros, podemos acceder a ellos a través de `Network.hidden.weight` y `Network.hidden.bias`.\n",
        "\n",
        "```python\n",
        "self.output = nn.Linear(256, 10)\n",
        "```\n",
        "Crea otra transformación lineal con 256 neuronas de operación salientes de la capa oculta y 10 neuronas de la capa de salida.\n",
        "\n",
        "```python\n",
        "self.sigmoid = nn.Sigmoid()\n",
        "self.softmax = nn.Sofmax(dim=1)\n",
        "```\n",
        "\n",
        "Define las funciones de activación Sigmoide y softmax, dando como parámetro de la función `dim=1` nos aseguramos que el cálculo sea a través de las columnas.\n",
        "\n",
        "```python\n",
        "def forward(self,x):\n",
        "```\n",
        "Las RNA creadas con `nn.Module` deben tener un método `forward` definido. Esto toma al tensor `x` y ejecuta las operaciones definidas en el método `__init__`.\n",
        "\n",
        "```python\n",
        "x = self.hidden(x)\n",
        "x = self.sigmoid(x)\n",
        "x = self.output(x)\n",
        "x = self.softmax(x)\n",
        "```\n",
        "\n",
        "Aquí el tensor de entrada `x` es sometida a la ejecución de las operaciones y reasignado el valor a `x`.\n",
        "\n",
        "Ahora podemos crear el objeto `Network`."
      ]
    },
    {
      "cell_type": "code",
      "metadata": {
        "id": "_FM0k7vQB-Tw",
        "colab_type": "code",
        "outputId": "02a01158-4232-4d50-e0ef-2460b7c4d35b",
        "colab": {
          "base_uri": "https://localhost:8080/",
          "height": 119
        }
      },
      "source": [
        "model = Network()\n",
        "model"
      ],
      "execution_count": 36,
      "outputs": [
        {
          "output_type": "execute_result",
          "data": {
            "text/plain": [
              "Network(\n",
              "  (hidden): Linear(in_features=784, out_features=256, bias=True)\n",
              "  (output): Linear(in_features=256, out_features=10, bias=True)\n",
              "  (sigmoid): Sigmoid()\n",
              "  (softmax): Softmax()\n",
              ")"
            ]
          },
          "metadata": {
            "tags": []
          },
          "execution_count": 36
        }
      ]
    },
    {
      "cell_type": "markdown",
      "metadata": {
        "id": "0kho8L1WFw03",
        "colab_type": "text"
      },
      "source": [
        "Podemos mejorar nuestra RNA de forma más consisa y limpia utilizando el módulo `torch.nn.functional`. "
      ]
    },
    {
      "cell_type": "code",
      "metadata": {
        "id": "cc67J8_3BtWS",
        "colab_type": "code",
        "colab": {}
      },
      "source": [
        "import torch.nn.functional as F"
      ],
      "execution_count": 0,
      "outputs": []
    },
    {
      "cell_type": "code",
      "metadata": {
        "id": "6t1qq2iGGBWu",
        "colab_type": "code",
        "colab": {}
      },
      "source": [
        "class Network(nn.Module):\n",
        "  def __init__(self):\n",
        "    super().__init__()\n",
        "    \n",
        "    #Definimos las 784 neuronas de operación en la capa oculta en un vector de 1D\n",
        "    self.hidden = nn.Linear(784, 256)\n",
        "    \n",
        "    #Definimos las 10 neuronas en la capa de salida e implementamos `softmax`\n",
        "    self.output = nn.Linear(256, 10)\n",
        "    \n",
        "    \n",
        "  def forward(self, x):\n",
        "    \n",
        "    #Procesamos las entradas \n",
        "    x = F.sigmoid(self.hidden(x))\n",
        "    x = F.softmax(self.output(x), dim=1)\n",
        "    \n",
        "    return x"
      ],
      "execution_count": 0,
      "outputs": []
    },
    {
      "cell_type": "markdown",
      "metadata": {
        "id": "3UnPavJVG8eZ",
        "colab_type": "text"
      },
      "source": [
        "## Funciones de activación\n",
        "Hasta ahora hemos visto las funciones de activación Sigmoide y Softmax, pero en general cualquier función podría servir. El único requisito es que para que una RNA se aproxime a una función no lineal, la función de activación debe ser de la misma naturaleza no lineal. Aquí hay algunas opciones:\n",
        "\n",
        "<img src=\"https://docs.google.com/uc?export=download&id=1D7klCWFOPDjySCaLus4QbMekle-T46qA\" height= 250px>"
      ]
    },
    {
      "cell_type": "markdown",
      "metadata": {
        "id": "WKg7vtdtKhIz",
        "colab_type": "text"
      },
      "source": [
        "## Problema\n",
        "\n",
        "Construir la RNA con las siguientes características:\n",
        "\n",
        "\n",
        "<img src=\"https://docs.google.com/uc?export=download&id=1Oevliiu-13fQBFSOLIkNIiE47nneeaGb\" height= 250px>\n",
        "\n",
        "\n",
        "Usar la función de activación ReLU a través del módulo `nn.ReLU` o la función `F.relu`."
      ]
    },
    {
      "cell_type": "markdown",
      "metadata": {
        "id": "QZR9iGPfLJus",
        "colab_type": "text"
      },
      "source": [
        "## Solución"
      ]
    },
    {
      "cell_type": "code",
      "metadata": {
        "id": "0czIRkn_OO3n",
        "colab_type": "code",
        "colab": {}
      },
      "source": [
        "import torch.nn.functional as F"
      ],
      "execution_count": 0,
      "outputs": []
    },
    {
      "cell_type": "code",
      "metadata": {
        "id": "HNzmXN3EGrJl",
        "colab_type": "code",
        "colab": {}
      },
      "source": [
        "class Network(nn.Module):\n",
        "  def __init__(self):\n",
        "    super().__init__()\n",
        "    \n",
        "    #Definimos el tamaño de las capas ocultas\n",
        "    self.hidden_layer_1 = nn.Linear(784, 128)\n",
        "    self.hidden_layer_2 = nn.Linear(128, 64)\n",
        "    \n",
        "    #Definimos el tamaño de la capa de salida\n",
        "    self.output = nn.Linear(64, 10)\n",
        "    \n",
        "    \n",
        "  def forward(self, x):\n",
        "    #Definimos las operaciones\n",
        "    x = self.hidden_layer_1(x)\n",
        "    x = F.relu(x)\n",
        "    x = self.hidden_layer_2(x)\n",
        "    x = F.relu(x)\n",
        "    x = self.output(x)\n",
        "    x = F.softmax(x, dim=1)\n",
        "    \n",
        "    return x"
      ],
      "execution_count": 0,
      "outputs": []
    },
    {
      "cell_type": "markdown",
      "metadata": {
        "id": "U-aYP9CRMKHr",
        "colab_type": "text"
      },
      "source": [
        "Checamos nuestra RNA multicapa"
      ]
    },
    {
      "cell_type": "code",
      "metadata": {
        "id": "wlEIJ5sWMF38",
        "colab_type": "code",
        "outputId": "0d65f1b7-5a8f-4d2c-eb38-392169efaae2",
        "colab": {
          "base_uri": "https://localhost:8080/",
          "height": 102
        }
      },
      "source": [
        "model = Network()\n",
        "model"
      ],
      "execution_count": 41,
      "outputs": [
        {
          "output_type": "execute_result",
          "data": {
            "text/plain": [
              "Network(\n",
              "  (hidden_layer_1): Linear(in_features=784, out_features=128, bias=True)\n",
              "  (hidden_layer_2): Linear(in_features=128, out_features=64, bias=True)\n",
              "  (output): Linear(in_features=64, out_features=10, bias=True)\n",
              ")"
            ]
          },
          "metadata": {
            "tags": []
          },
          "execution_count": 41
        }
      ]
    },
    {
      "cell_type": "markdown",
      "metadata": {
        "id": "--bNWF0QMRxv",
        "colab_type": "text"
      },
      "source": [
        "Los parámetros pesos `weights` y sesgos `bias`, se crean automáticamente como tensores a partir de `model`."
      ]
    },
    {
      "cell_type": "code",
      "metadata": {
        "id": "aYYDIBwjMJVP",
        "colab_type": "code",
        "outputId": "5d613ce7-ba6a-48fd-cb46-2fdadf1b88af",
        "colab": {
          "base_uri": "https://localhost:8080/",
          "height": 170
        }
      },
      "source": [
        "model.hidden_layer_1.weight"
      ],
      "execution_count": 42,
      "outputs": [
        {
          "output_type": "execute_result",
          "data": {
            "text/plain": [
              "Parameter containing:\n",
              "tensor([[ 0.0170,  0.0196, -0.0067,  ...,  0.0002,  0.0192,  0.0158],\n",
              "        [ 0.0295,  0.0087, -0.0259,  ...,  0.0237, -0.0039, -0.0188],\n",
              "        [-0.0212,  0.0186, -0.0133,  ...,  0.0354,  0.0306, -0.0343],\n",
              "        ...,\n",
              "        [ 0.0072, -0.0104, -0.0106,  ...,  0.0353, -0.0119, -0.0278],\n",
              "        [-0.0261,  0.0074, -0.0127,  ...,  0.0013,  0.0096,  0.0257],\n",
              "        [-0.0257, -0.0198,  0.0190,  ...,  0.0283,  0.0213,  0.0268]],\n",
              "       requires_grad=True)"
            ]
          },
          "metadata": {
            "tags": []
          },
          "execution_count": 42
        }
      ]
    },
    {
      "cell_type": "code",
      "metadata": {
        "id": "F2yGZ8BlMi2_",
        "colab_type": "code",
        "outputId": "1a98c091-7f0f-41fd-ebd0-d04d322bc1c8",
        "colab": {
          "base_uri": "https://localhost:8080/",
          "height": 476
        }
      },
      "source": [
        "model.hidden_layer_1.bias"
      ],
      "execution_count": 43,
      "outputs": [
        {
          "output_type": "execute_result",
          "data": {
            "text/plain": [
              "Parameter containing:\n",
              "tensor([-1.4791e-02, -1.6827e-02,  2.7644e-02, -2.6681e-03,  5.1919e-05,\n",
              "        -2.9128e-02, -8.0989e-03, -2.3103e-02, -2.8544e-02, -7.4148e-03,\n",
              "         4.0243e-03, -2.4847e-02,  2.5300e-02, -2.9093e-02,  3.0386e-02,\n",
              "         1.8472e-02, -8.0335e-03, -3.0500e-02,  2.6112e-02,  3.5656e-02,\n",
              "        -4.2338e-03, -2.3036e-02, -1.4377e-03,  3.1833e-02,  1.4567e-02,\n",
              "        -2.7342e-02,  1.6961e-02, -9.5159e-03,  1.1003e-02, -2.7952e-02,\n",
              "        -4.4448e-03, -1.7759e-02,  2.9345e-02, -1.2898e-02,  3.2208e-03,\n",
              "         2.5668e-02, -2.5551e-02,  3.7315e-03,  1.6452e-02, -3.1142e-02,\n",
              "         2.1744e-02, -3.4685e-02, -2.8695e-02,  2.4576e-02,  2.1899e-02,\n",
              "         1.6705e-02, -1.0291e-02,  1.7685e-02,  1.0228e-02, -2.9443e-02,\n",
              "        -1.5828e-02,  2.6742e-02,  8.0777e-03, -2.9812e-02, -5.0579e-04,\n",
              "        -2.5665e-02,  1.0542e-02,  6.6381e-05,  2.5878e-02, -2.3066e-02,\n",
              "         3.1322e-02, -1.1893e-02, -3.0849e-02,  2.3050e-02,  2.5707e-02,\n",
              "        -2.2174e-02,  1.8743e-02,  3.5046e-02, -1.2262e-02, -1.9978e-02,\n",
              "        -2.1790e-02,  1.0545e-02, -2.6088e-02, -2.9223e-02,  3.2962e-03,\n",
              "         2.4655e-02, -1.9962e-02,  3.5686e-02,  2.5603e-02,  1.3425e-02,\n",
              "        -2.5440e-02,  2.2490e-02, -2.7796e-02,  2.2836e-02,  3.3564e-02,\n",
              "        -2.0398e-02,  3.3579e-03,  3.3114e-02,  3.3409e-02, -3.4793e-02,\n",
              "        -1.0798e-02, -2.1424e-02,  1.0785e-02,  1.7886e-02, -1.1593e-02,\n",
              "         2.4792e-02, -2.2351e-02, -9.3703e-03, -2.6567e-02, -1.4494e-02,\n",
              "        -8.7289e-03, -3.4612e-02, -1.0531e-02, -1.8531e-02, -3.3109e-02,\n",
              "         3.5184e-03,  3.5269e-03, -2.3252e-02,  1.1453e-02, -3.2153e-02,\n",
              "         1.4584e-02, -1.1382e-03,  1.0232e-02, -1.9860e-02, -2.5427e-02,\n",
              "        -5.9593e-03,  1.4673e-02,  9.3492e-03,  1.0153e-02,  2.9785e-02,\n",
              "         5.2419e-03,  8.5352e-03,  1.1661e-02,  2.1007e-02,  2.6669e-02,\n",
              "        -2.4708e-02,  2.7661e-02,  1.9469e-02], requires_grad=True)"
            ]
          },
          "metadata": {
            "tags": []
          },
          "execution_count": 43
        }
      ]
    },
    {
      "cell_type": "markdown",
      "metadata": {
        "id": "xDw59DZrMvzF",
        "colab_type": "text"
      },
      "source": [
        "Si quisieramos modificar los parámetros podríamos hacerlo a través de `model.hidden_layer_1.weight.data`"
      ]
    },
    {
      "cell_type": "code",
      "metadata": {
        "id": "eqfLUwVPMlbi",
        "colab_type": "code",
        "outputId": "b23e48eb-0606-4730-e9a6-4728555a42c6",
        "colab": {
          "base_uri": "https://localhost:8080/",
          "height": 136
        }
      },
      "source": [
        "model.hidden_layer_1.weight.data"
      ],
      "execution_count": 44,
      "outputs": [
        {
          "output_type": "execute_result",
          "data": {
            "text/plain": [
              "tensor([[ 0.0170,  0.0196, -0.0067,  ...,  0.0002,  0.0192,  0.0158],\n",
              "        [ 0.0295,  0.0087, -0.0259,  ...,  0.0237, -0.0039, -0.0188],\n",
              "        [-0.0212,  0.0186, -0.0133,  ...,  0.0354,  0.0306, -0.0343],\n",
              "        ...,\n",
              "        [ 0.0072, -0.0104, -0.0106,  ...,  0.0353, -0.0119, -0.0278],\n",
              "        [-0.0261,  0.0074, -0.0127,  ...,  0.0013,  0.0096,  0.0257],\n",
              "        [-0.0257, -0.0198,  0.0190,  ...,  0.0283,  0.0213,  0.0268]])"
            ]
          },
          "metadata": {
            "tags": []
          },
          "execution_count": 44
        }
      ]
    },
    {
      "cell_type": "markdown",
      "metadata": {
        "id": "8hQEBeC_M5pN",
        "colab_type": "text"
      },
      "source": [
        "Una vez creada la RNA, vamos a entrenarla con una imagen"
      ]
    },
    {
      "cell_type": "code",
      "metadata": {
        "id": "k-mkvzSHMw8e",
        "colab_type": "code",
        "outputId": "f0cdcbbd-1371-4290-c9a5-634fb97b0204",
        "colab": {
          "base_uri": "https://localhost:8080/",
          "height": 34
        }
      },
      "source": [
        "dataiter = iter(trainloader)\n",
        "dataiter"
      ],
      "execution_count": 50,
      "outputs": [
        {
          "output_type": "execute_result",
          "data": {
            "text/plain": [
              "<torch.utils.data.dataloader._DataLoaderIter at 0x7fc6695869e8>"
            ]
          },
          "metadata": {
            "tags": []
          },
          "execution_count": 50
        }
      ]
    },
    {
      "cell_type": "code",
      "metadata": {
        "id": "pbL5-qH2NGCM",
        "colab_type": "code",
        "colab": {}
      },
      "source": [
        "images, labels = dataiter.next()"
      ],
      "execution_count": 0,
      "outputs": []
    },
    {
      "cell_type": "markdown",
      "metadata": {
        "id": "hExJyzbcNL3N",
        "colab_type": "text"
      },
      "source": [
        "Convertimos las imágenes de 2D a un vector 1D, con el tamaño del batch (64), canal de color (1) y tamaño de pixeles (64x64 o 784 pixeles)"
      ]
    },
    {
      "cell_type": "code",
      "metadata": {
        "id": "nVIvtNGbNJw0",
        "colab_type": "code",
        "outputId": "99845ce7-b8f6-4cdd-8e49-aaddd8190a55",
        "colab": {
          "base_uri": "https://localhost:8080/",
          "height": 238
        }
      },
      "source": [
        "images.resize_(64, 1, 784)"
      ],
      "execution_count": 52,
      "outputs": [
        {
          "output_type": "execute_result",
          "data": {
            "text/plain": [
              "tensor([[[-1., -1., -1.,  ..., -1., -1., -1.]],\n",
              "\n",
              "        [[-1., -1., -1.,  ..., -1., -1., -1.]],\n",
              "\n",
              "        [[-1., -1., -1.,  ..., -1., -1., -1.]],\n",
              "\n",
              "        ...,\n",
              "\n",
              "        [[-1., -1., -1.,  ..., -1., -1., -1.]],\n",
              "\n",
              "        [[-1., -1., -1.,  ..., -1., -1., -1.]],\n",
              "\n",
              "        [[-1., -1., -1.,  ..., -1., -1., -1.]]])"
            ]
          },
          "metadata": {
            "tags": []
          },
          "execution_count": 52
        }
      ]
    },
    {
      "cell_type": "code",
      "metadata": {
        "id": "tNeXmuZ6Ni1Q",
        "colab_type": "code",
        "outputId": "61ef159d-8178-4700-8432-bb6b5109ebb0",
        "colab": {
          "base_uri": "https://localhost:8080/",
          "height": 51
        }
      },
      "source": [
        "img_idx = 0\n",
        "rna = model.forward(images[img_idx, :])\n",
        "rna"
      ],
      "execution_count": 54,
      "outputs": [
        {
          "output_type": "execute_result",
          "data": {
            "text/plain": [
              "tensor([[0.0976, 0.0875, 0.1082, 0.0971, 0.1085, 0.0954, 0.0874, 0.1050, 0.1044,\n",
              "         0.1089]], grad_fn=<SoftmaxBackward>)"
            ]
          },
          "metadata": {
            "tags": []
          },
          "execution_count": 54
        }
      ]
    },
    {
      "cell_type": "code",
      "metadata": {
        "id": "TcTE_mRXOZfG",
        "colab_type": "code",
        "outputId": "3d7a4a39-a8a4-45ae-d778-d4ea214c4ee2",
        "colab": {
          "base_uri": "https://localhost:8080/",
          "height": 243
        }
      },
      "source": [
        "img = images[img_idx]\n",
        "helper.view_classify(img.view(1,28,28), rna)"
      ],
      "execution_count": 55,
      "outputs": [
        {
          "output_type": "display_data",
          "data": {
            "image/png": "[encoded data removed]",
            "text/plain": [
              "<Figure size 432x648 with 2 Axes>"
            ]
          },
          "metadata": {
            "tags": [],
            "image/png": {
              "width": 423,
              "height": 226
            }
          }
        }
      ]
    },
    {
      "cell_type": "markdown",
      "metadata": {
        "id": "7D03WaTRjsLQ",
        "colab_type": "text"
      },
      "source": [
        "Como se puede observar, la RNA no tiene idea cuál es cuál dígito, lo interpreta como equiproblable. La respuesta es que los pesos `weights` son aleatorios."
      ]
    },
    {
      "cell_type": "markdown",
      "metadata": {
        "id": "yhx3LfXMkFzk",
        "colab_type": "text"
      },
      "source": [
        "Usando `nn.Sequential`"
      ]
    },
    {
      "cell_type": "markdown",
      "metadata": {
        "id": "bf79NHOmkOWw",
        "colab_type": "text"
      },
      "source": [
        "Definiendo los hyperparámetros de la RNA"
      ]
    },
    {
      "cell_type": "code",
      "metadata": {
        "id": "RNfLlXVdi9o0",
        "colab_type": "code",
        "colab": {}
      },
      "source": [
        "input_size = 784\n",
        "hidden_sizes = [128, 64]\n",
        "output_size = 10"
      ],
      "execution_count": 0,
      "outputs": []
    },
    {
      "cell_type": "markdown",
      "metadata": {
        "id": "42LSoU90kfXC",
        "colab_type": "text"
      },
      "source": [
        "Construtyendo la RNA"
      ]
    },
    {
      "cell_type": "code",
      "metadata": {
        "id": "WhHWwDrXkeki",
        "colab_type": "code",
        "colab": {
          "base_uri": "https://localhost:8080/",
          "height": 153
        },
        "outputId": "1c56f522-3880-4285-f7ac-c10424052b30"
      },
      "source": [
        "model = nn.Sequential(nn.Linear(input_size, hidden_sizes[0]),\n",
        "                     nn.ReLU(),\n",
        "                     nn.Linear(hidden_sizes[0], hidden_sizes[1]),\n",
        "                     nn.ReLU(),\n",
        "                     nn.Linear(hidden_sizes[1], output_size),\n",
        "                     nn.Softmax(dim=1))\n",
        "\n",
        "model"
      ],
      "execution_count": 59,
      "outputs": [
        {
          "output_type": "execute_result",
          "data": {
            "text/plain": [
              "Sequential(\n",
              "  (0): Linear(in_features=784, out_features=128, bias=True)\n",
              "  (1): ReLU()\n",
              "  (2): Linear(in_features=128, out_features=64, bias=True)\n",
              "  (3): ReLU()\n",
              "  (4): Linear(in_features=64, out_features=10, bias=True)\n",
              "  (5): Softmax()\n",
              ")"
            ]
          },
          "metadata": {
            "tags": []
          },
          "execution_count": 59
        }
      ]
    },
    {
      "cell_type": "markdown",
      "metadata": {
        "id": "VHThoLxLlHOu",
        "colab_type": "text"
      },
      "source": [
        "Pasando hacia adelante a través de la RNA"
      ]
    },
    {
      "cell_type": "code",
      "metadata": {
        "id": "CiJXiLNtk_f7",
        "colab_type": "code",
        "colab": {}
      },
      "source": [
        "images, labels = next(iter(trainloader))\n",
        "images.resize_(images.shape[0], 1, 784)"
      ],
      "execution_count": 0,
      "outputs": []
    },
    {
      "cell_type": "code",
      "metadata": {
        "id": "TIVLM2nXlgUK",
        "colab_type": "code",
        "colab": {
          "base_uri": "https://localhost:8080/",
          "height": 51
        },
        "outputId": "d7ed4e06-5882-40f2-dfab-64b15d28a33c"
      },
      "source": [
        "rna = model.forward(images[0,:])\n",
        "rna"
      ],
      "execution_count": 61,
      "outputs": [
        {
          "output_type": "execute_result",
          "data": {
            "text/plain": [
              "tensor([[0.1109, 0.1064, 0.0867, 0.0794, 0.0986, 0.0965, 0.0990, 0.1059, 0.1106,\n",
              "         0.1060]], grad_fn=<SoftmaxBackward>)"
            ]
          },
          "metadata": {
            "tags": []
          },
          "execution_count": 61
        }
      ]
    },
    {
      "cell_type": "code",
      "metadata": {
        "id": "yBPsamDnlv06",
        "colab_type": "code",
        "colab": {
          "base_uri": "https://localhost:8080/",
          "height": 243
        },
        "outputId": "08f09038-decb-481d-c222-be2efa9915e5"
      },
      "source": [
        "helper.view_classify(images[0].view(1,28,28), rna)"
      ],
      "execution_count": 62,
      "outputs": [
        {
          "output_type": "display_data",
          "data": {
            "image/png": "[encoded data removed]",
            "text/plain": [
              "<Figure size 432x648 with 2 Axes>"
            ]
          },
          "metadata": {
            "tags": [],
            "image/png": {
              "width": 423,
              "height": 226
            }
          }
        }
      ]
    },
    {
      "cell_type": "markdown",
      "metadata": {
        "id": "vZNagmZ-lg1e",
        "colab_type": "text"
      },
      "source": [
        ""
      ]
    },
    {
      "cell_type": "code",
      "metadata": {
        "id": "-9cOZT2Ll-6H",
        "colab_type": "code",
        "colab": {
          "base_uri": "https://localhost:8080/",
          "height": 170
        },
        "outputId": "90c49c85-b42b-4432-e40b-229c98866a06"
      },
      "source": [
        "model[0].weight"
      ],
      "execution_count": 66,
      "outputs": [
        {
          "output_type": "execute_result",
          "data": {
            "text/plain": [
              "Parameter containing:\n",
              "tensor([[ 0.0077,  0.0067, -0.0131,  ...,  0.0268, -0.0105, -0.0159],\n",
              "        [ 0.0331, -0.0144,  0.0146,  ..., -0.0159,  0.0327,  0.0164],\n",
              "        [ 0.0219,  0.0205, -0.0075,  ..., -0.0021, -0.0034, -0.0216],\n",
              "        ...,\n",
              "        [-0.0176,  0.0224, -0.0155,  ..., -0.0027, -0.0262, -0.0013],\n",
              "        [ 0.0008, -0.0015,  0.0008,  ..., -0.0101,  0.0209, -0.0031],\n",
              "        [-0.0199,  0.0315, -0.0276,  ...,  0.0270, -0.0099, -0.0229]],\n",
              "       requires_grad=True)"
            ]
          },
          "metadata": {
            "tags": []
          },
          "execution_count": 66
        }
      ]
    },
    {
      "cell_type": "code",
      "metadata": {
        "id": "LK7hKKMFmB_L",
        "colab_type": "code",
        "colab": {}
      },
      "source": [
        "model[0].bias"
      ],
      "execution_count": 0,
      "outputs": []
    },
    {
      "cell_type": "markdown",
      "metadata": {
        "id": "fUrcbORrmSzE",
        "colab_type": "text"
      },
      "source": [
        "Se puede también pasar un diccionario que permite nombrar las capas individuales y sus operaciones"
      ]
    },
    {
      "cell_type": "code",
      "metadata": {
        "id": "9UdLjFrJmMOp",
        "colab_type": "code",
        "colab": {}
      },
      "source": [
        "from collections import OrderedDict"
      ],
      "execution_count": 0,
      "outputs": []
    },
    {
      "cell_type": "code",
      "metadata": {
        "id": "itvT2fLBm5xx",
        "colab_type": "code",
        "colab": {
          "base_uri": "https://localhost:8080/",
          "height": 153
        },
        "outputId": "6e99be46-7d9b-4efe-dc58-6eb6d2b00a19"
      },
      "source": [
        "model = nn.Sequential(OrderedDict([\n",
        "    ('hidden_layer_1', nn.Linear(input_size, hidden_sizes[0])),\n",
        "    ('relu_1', nn.ReLU()),\n",
        "    ('hidden_layer_2', nn.Linear(hidden_sizes[0], hidden_sizes[1])),\n",
        "    ('relu_2', nn.ReLU()),\n",
        "    ('output', nn.Linear(hidden_sizes[1], output_size)),\n",
        "    ('softmax', nn.Softmax(dim=1))\n",
        "    \n",
        "]))\n",
        "\n",
        "model"
      ],
      "execution_count": 71,
      "outputs": [
        {
          "output_type": "execute_result",
          "data": {
            "text/plain": [
              "Sequential(\n",
              "  (hidden_layer_1): Linear(in_features=784, out_features=128, bias=True)\n",
              "  (relu_1): ReLU()\n",
              "  (hidden_layer_2): Linear(in_features=128, out_features=64, bias=True)\n",
              "  (relu_2): ReLU()\n",
              "  (output): Linear(in_features=64, out_features=10, bias=True)\n",
              "  (softmax): Softmax()\n",
              ")"
            ]
          },
          "metadata": {
            "tags": []
          },
          "execution_count": 71
        }
      ]
    },
    {
      "cell_type": "markdown",
      "metadata": {
        "id": "K0hUYK8Zn2cQ",
        "colab_type": "text"
      },
      "source": [
        "Ahora se puede tener acceso a las capas a través de su posición o su nombre"
      ]
    },
    {
      "cell_type": "code",
      "metadata": {
        "id": "czlZz5m8npz7",
        "colab_type": "code",
        "colab": {
          "base_uri": "https://localhost:8080/",
          "height": 34
        },
        "outputId": "7ef85d2b-0ae5-4c6c-c9bc-149e75ba4be4"
      },
      "source": [
        "model[0]"
      ],
      "execution_count": 72,
      "outputs": [
        {
          "output_type": "execute_result",
          "data": {
            "text/plain": [
              "Linear(in_features=784, out_features=128, bias=True)"
            ]
          },
          "metadata": {
            "tags": []
          },
          "execution_count": 72
        }
      ]
    },
    {
      "cell_type": "code",
      "metadata": {
        "id": "6NloNZfDn_hD",
        "colab_type": "code",
        "colab": {
          "base_uri": "https://localhost:8080/",
          "height": 34
        },
        "outputId": "1d1a4d0f-aadc-4311-9042-9a4edc96008f"
      },
      "source": [
        "model.hidden_layer_1"
      ],
      "execution_count": 73,
      "outputs": [
        {
          "output_type": "execute_result",
          "data": {
            "text/plain": [
              "Linear(in_features=784, out_features=128, bias=True)"
            ]
          },
          "metadata": {
            "tags": []
          },
          "execution_count": 73
        }
      ]
    }
  ]
}