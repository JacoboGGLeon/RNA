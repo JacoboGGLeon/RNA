{
  "nbformat": 4,
  "nbformat_minor": 0,
  "metadata": {
    "colab": {
      "name": "Introducción.ipynb",
      "provenance": [],
      "toc_visible": true,
      "include_colab_link": true
    },
    "kernelspec": {
      "name": "python3",
      "display_name": "Python 3"
    }
  },
  "cells": [
    {
      "cell_type": "markdown",
      "metadata": {
        "id": "view-in-github",
        "colab_type": "text"
      },
      "source": [
        "<a href=\"https://colab.research.google.com/github/JacoboGGLeon/RNA/blob/master/Introducci%C3%B3n.ipynb\" target=\"_parent\"><img src=\"https://colab.research.google.com/assets/colab-badge.svg\" alt=\"Open In Colab\"/></a>"
      ]
    },
    {
      "cell_type": "markdown",
      "metadata": {
        "id": "w3Ir6OLX38v0",
        "colab_type": "text"
      },
      "source": [
        "# Clasificación supervisada con Redes Neuronales Artificiales (RNA)\n",
        "## UNAM-FES Acatlán, 24 de septiembre, A-723\n",
        "## Jacobo G. González León\n",
        "## 09:00 A 13:00\n",
        "### @jacoboggleon"
      ]
    },
    {
      "cell_type": "markdown",
      "metadata": {
        "id": "sF9q9MYq335z",
        "colab_type": "text"
      },
      "source": [
        "## Redes Neuronales biológicas"
      ]
    },
    {
      "cell_type": "markdown",
      "metadata": {
        "id": "8ysODy8i5Som",
        "colab_type": "text"
      },
      "source": [
        "Las RNA están basadas en la biología de las redes neuronales que se encuentran en los cerebros animales.\n",
        "\n",
        "\n",
        "<img src=\"https://miro.medium.com/max/2661/1*aS8v6PQS67HQvyQONye92A.jpeg\" height= \"250\"> \n",
        "<img src=\"http://live-helen-wills-neuroscience-institute.pantheon.berkeley.edu/wp-content/uploads/2016/01/Cajal_cortex_drawings.png\" height= \"250\">\n",
        "\n",
        "\n",
        "[a) Cajal, 1895. Image courtesy of Javier DeFelipe. DeFelipe, J., El jardín de la neurología: sobre lo bello, el arte y el cerebro. Madrid, 2014. Fig. 34.](https://medium.com/brain-byte-blog/ten-things-you-didnt-know-about-7cc5ad942a48)\n",
        "\n",
        "[b) Dan Feldman on Santiago Ramón y Cajal’s Drawings of Brain Structures\n",
        "](https://neuroscience.berkeley.edu/dan-feldman-on-santiago-ramon-y-cajals-drawings-of-brain-structures/)"
      ]
    },
    {
      "cell_type": "markdown",
      "metadata": {
        "id": "cpXFa0Gm7q5O",
        "colab_type": "text"
      },
      "source": [
        "\n",
        "<img src=\"https://ars.els-cdn.com/content/image/3-s2.0-B9781907568992500025-f02-02-9781907568992.jpg\" height= \"250\">\n",
        "\n",
        "[Artificial neural networks technology to model, understand, and optimize drug formulations](https://www.sciencedirect.com/science/article/pii/B9781907568992500025)"
      ]
    },
    {
      "cell_type": "markdown",
      "metadata": {
        "id": "wsqs82AvDUNy",
        "colab_type": "text"
      },
      "source": [
        "<img src=\"http://www.asimovinstitute.org/wp-content/uploads/2019/04/NeuralNetworkZoo20042019.png\" height= \"250\">\n",
        "\n",
        "[The mostly complete chart of Neural Networks, explained\n",
        "](https://towardsdatascience.com/the-mostly-complete-chart-of-neural-networks-explained-3fb6f2367464)"
      ]
    },
    {
      "cell_type": "markdown",
      "metadata": {
        "id": "3r1T0RSV-Cfi",
        "colab_type": "text"
      },
      "source": [
        "La abstracción de una neurona sería de la siguiente forma:\n",
        "\n",
        "<img src=\"https://r671845c783298xjupyterjazpl4g0.udacity-student-workspaces.com/notebooks/deep-learning-v2-pytorch/intro-to-pytorch/assets/simple_neuron.png\" height= \"250\">\n",
        "\n",
        "Donde:\n",
        "\n",
        "$$\n",
        "\\begin{align}\n",
        "y &= f(w_1 x_1 + w_2 x_2 + b) \\\\\n",
        "y &= f\\left(\\sum_i w_i x_i +b \\right)\n",
        "\\end{align}\n",
        "$$\n",
        "\n",
        "De manera más sencilla, se puede ver como el producto de dos vectores:\n",
        "\n",
        "$$\n",
        "h = \\begin{bmatrix}\n",
        "x_1 \\, x_2 \\cdots  x_n\n",
        "\\end{bmatrix}\n",
        "\\cdot \n",
        "\\begin{bmatrix}\n",
        "           w_1 \\\\\n",
        "           w_2 \\\\\n",
        "           \\vdots \\\\\n",
        "           w_n\n",
        "\\end{bmatrix}\n",
        "$$"
      ]
    },
    {
      "cell_type": "markdown",
      "metadata": {
        "id": "MhtIjj__CUtu",
        "colab_type": "text"
      },
      "source": [
        "## Tensores\n"
      ]
    },
    {
      "cell_type": "markdown",
      "metadata": {
        "id": "KLwFjc13Cd6K",
        "colab_type": "text"
      },
      "source": [
        "* Matriz de matrices\n",
        "* Estructura de datos fundamental\n",
        "\n",
        "<img src=\"https://r671845c783298xjupyterjazpl4g0.udacity-student-workspaces.com/notebooks/deep-learning-v2-pytorch/intro-to-pytorch/assets/tensor_examples.svg\" height= \"250\">\n"
      ]
    }
  ]
}