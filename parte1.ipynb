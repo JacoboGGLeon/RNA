{
  "nbformat": 4,
  "nbformat_minor": 0,
  "metadata": {
    "colab": {
      "name": "parte1.ipynb",
      "provenance": [],
      "include_colab_link": true
    },
    "kernelspec": {
      "name": "python3",
      "display_name": "Python 3"
    }
  },
  "cells": [
    {
      "cell_type": "markdown",
      "metadata": {
        "id": "view-in-github",
        "colab_type": "text"
      },
      "source": [
        "<a href=\"https://colab.research.google.com/github/JacoboGGLeon/RNA/blob/master/parte1.ipynb\" target=\"_parent\"><img src=\"https://colab.research.google.com/assets/colab-badge.svg\" alt=\"Open In Colab\"/></a>"
      ]
    },
    {
      "cell_type": "markdown",
      "metadata": {
        "id": "w3Ir6OLX38v0",
        "colab_type": "text"
      },
      "source": [
        "# Clasificación supervisada con Redes Neuronales Artificiales (RNA)\n",
        "## UNAM-FES Acatlán, 24 de septiembre, A-723\n",
        "## Jacobo G. González León\n",
        "## 09:00 A 13:00\n",
        "### @jacoboggleon\n",
        "### Parte 1"
      ]
    },
    {
      "cell_type": "markdown",
      "metadata": {
        "id": "sF9q9MYq335z",
        "colab_type": "text"
      },
      "source": [
        "## Redes Neuronales biológicas"
      ]
    },
    {
      "cell_type": "markdown",
      "metadata": {
        "id": "8ysODy8i5Som",
        "colab_type": "text"
      },
      "source": [
        "Las RNA están basadas en la biología de las redes neuronales que se encuentran en los cerebros animales.\n",
        "\n",
        "\n",
        "<img src=\"https://miro.medium.com/max/2661/1*aS8v6PQS67HQvyQONye92A.jpeg\" height= \"250\"> \n",
        "<img src=\"http://live-helen-wills-neuroscience-institute.pantheon.berkeley.edu/wp-content/uploads/2016/01/Cajal_cortex_drawings.png\" height= \"250\">\n",
        "\n",
        "\n",
        "[a) Cajal, 1895. Image courtesy of Javier DeFelipe. DeFelipe, J., El jardín de la neurología: sobre lo bello, el arte y el cerebro. Madrid, 2014. Fig. 34.](https://medium.com/brain-byte-blog/ten-things-you-didnt-know-about-7cc5ad942a48)\n",
        "\n",
        "[b) Dan Feldman on Santiago Ramón y Cajal’s Drawings of Brain Structures\n",
        "](https://neuroscience.berkeley.edu/dan-feldman-on-santiago-ramon-y-cajals-drawings-of-brain-structures/)"
      ]
    },
    {
      "cell_type": "markdown",
      "metadata": {
        "id": "cpXFa0Gm7q5O",
        "colab_type": "text"
      },
      "source": [
        "\n",
        "<img src=\"https://ars.els-cdn.com/content/image/3-s2.0-B9781907568992500025-f02-02-9781907568992.jpg\" height= \"250\">\n",
        "\n",
        "[Artificial neural networks technology to model, understand, and optimize drug formulations](https://www.sciencedirect.com/science/article/pii/B9781907568992500025)"
      ]
    },
    {
      "cell_type": "markdown",
      "metadata": {
        "id": "wsqs82AvDUNy",
        "colab_type": "text"
      },
      "source": [
        "<img src=\"http://www.asimovinstitute.org/wp-content/uploads/2019/04/NeuralNetworkZoo20042019.png\" height= \"250\">\n",
        "\n",
        "[The mostly complete chart of Neural Networks, explained\n",
        "](https://towardsdatascience.com/the-mostly-complete-chart-of-neural-networks-explained-3fb6f2367464)"
      ]
    },
    {
      "cell_type": "markdown",
      "metadata": {
        "id": "3r1T0RSV-Cfi",
        "colab_type": "text"
      },
      "source": [
        "La abstracción de una neurona sería de la siguiente forma:\n",
        "\n",
        "<img src=\"https://docs.google.com/uc?export=download&id=1lDJGa9rFQomIJ5qc3nJg61PhdxtHlG4z\" height= \"250\">\n",
        "\n",
        "Donde:\n",
        "\n",
        "$$\n",
        "\\begin{align}\n",
        "y &= f(w_1 x_1 + w_2 x_2 + b) \\\\\n",
        "y &= f\\left(\\sum_i w_i x_i +b \\right)\n",
        "\\end{align}\n",
        "$$\n",
        "\n",
        "De manera más sencilla, se puede ver como el producto de dos vectores:\n",
        "\n",
        "$$\n",
        "h = \\begin{bmatrix}\n",
        "x_1 \\, x_2 \\cdots  x_n\n",
        "\\end{bmatrix}\n",
        "\\cdot \n",
        "\\begin{bmatrix}\n",
        "           w_1 \\\\\n",
        "           w_2 \\\\\n",
        "           \\vdots \\\\\n",
        "           w_n\n",
        "\\end{bmatrix}\n",
        "$$"
      ]
    },
    {
      "cell_type": "markdown",
      "metadata": {
        "id": "MhtIjj__CUtu",
        "colab_type": "text"
      },
      "source": [
        "## Tensores\n"
      ]
    },
    {
      "cell_type": "markdown",
      "metadata": {
        "id": "KLwFjc13Cd6K",
        "colab_type": "text"
      },
      "source": [
        "* Matriz de matrices\n",
        "* Estructura de datos fundamental\n",
        "\n",
        "<img src=\"https://docs.google.com/uc?export=download&id=1wbd31r6lU2M3THUDA808a6sI5eRjsTq2\" height= \"250\">\n"
      ]
    },
    {
      "cell_type": "markdown",
      "metadata": {
        "id": "-hxWn5UHNdsM",
        "colab_type": "text"
      },
      "source": [
        "## Importar librerías\n"
      ]
    },
    {
      "cell_type": "code",
      "metadata": {
        "id": "jHcag0hlNSkF",
        "colab_type": "code",
        "colab": {}
      },
      "source": [
        "import torch"
      ],
      "execution_count": 0,
      "outputs": []
    },
    {
      "cell_type": "markdown",
      "metadata": {
        "id": "Ey_GBthMNw05",
        "colab_type": "text"
      },
      "source": [
        "## Creación una función de activación\n",
        "\n",
        "* Función de activación sigmoide\n",
        "$$\n",
        "f(h) = \\frac{\\mathrm{1} }{\\mathrm{1} + e^h }\n",
        "$$\n",
        "\n",
        "* Argumentos\n",
        "\n",
        "  x: torch.Tensor"
      ]
    },
    {
      "cell_type": "code",
      "metadata": {
        "id": "L3h_xZRWNrov",
        "colab_type": "code",
        "colab": {}
      },
      "source": [
        "def activation(x): \n",
        "    return 1/(1+torch.exp(-x))"
      ],
      "execution_count": 0,
      "outputs": []
    },
    {
      "cell_type": "markdown",
      "metadata": {
        "id": "nkjaN5HmPhcc",
        "colab_type": "text"
      },
      "source": [
        "## Generar datos aleatorios\n",
        "\n",
        "Proponer una semilla aleatoria conocida\n"
      ]
    },
    {
      "cell_type": "code",
      "metadata": {
        "id": "ktSRNv5aPdBp",
        "colab_type": "code",
        "outputId": "f3ca6559-0ec5-45ce-f09f-efa8a0d73b0a",
        "colab": {
          "base_uri": "https://localhost:8080/",
          "height": 34
        }
      },
      "source": [
        "torch.manual_seed(7)"
      ],
      "execution_count": 0,
      "outputs": [
        {
          "output_type": "execute_result",
          "data": {
            "text/plain": [
              "<torch._C.Generator at 0x7ff07cb68950>"
            ]
          },
          "metadata": {
            "tags": []
          },
          "execution_count": 3
        }
      ]
    },
    {
      "cell_type": "markdown",
      "metadata": {
        "id": "WeLK7oiAP3cE",
        "colab_type": "text"
      },
      "source": [
        "## Crear 3 variables con valores aleatorios\n",
        "A través de una distribución normal, crear un tensor de tamaño (1,5) una fila y 5 columnas\n"
      ]
    },
    {
      "cell_type": "code",
      "metadata": {
        "id": "5lwlITsfQdFP",
        "colab_type": "code",
        "colab": {}
      },
      "source": [
        "features = torch.randn((1,5))"
      ],
      "execution_count": 0,
      "outputs": []
    },
    {
      "cell_type": "markdown",
      "metadata": {
        "id": "cl2YPTCfQj99",
        "colab_type": "text"
      },
      "source": [
        "## Crear pesos aleatorios "
      ]
    },
    {
      "cell_type": "code",
      "metadata": {
        "id": "XMtfroI4QjPv",
        "colab_type": "code",
        "colab": {}
      },
      "source": [
        "weights = torch.rand_like(features)"
      ],
      "execution_count": 0,
      "outputs": []
    },
    {
      "cell_type": "markdown",
      "metadata": {
        "id": "dMzAquSXQ32w",
        "colab_type": "text"
      },
      "source": [
        "## Agregar el sesgo\n",
        "Crear un sólo valor "
      ]
    },
    {
      "cell_type": "code",
      "metadata": {
        "id": "eUCGqKkJQ3QG",
        "colab_type": "code",
        "colab": {}
      },
      "source": [
        "bias = torch.randn((1,1))"
      ],
      "execution_count": 0,
      "outputs": []
    },
    {
      "cell_type": "markdown",
      "metadata": {
        "id": "HcSnCfujY3LC",
        "colab_type": "text"
      },
      "source": [
        "# RNA unicapa"
      ]
    },
    {
      "cell_type": "markdown",
      "metadata": {
        "id": "wffSDemcRRS4",
        "colab_type": "text"
      },
      "source": [
        "## Problema \n",
        "### Calcular la salida de la RNA con variables `features` de entrada, pesos `weights` y sesgo `bias`"
      ]
    },
    {
      "cell_type": "markdown",
      "metadata": {
        "id": "QlZfsZV2SQOY",
        "colab_type": "text"
      },
      "source": [
        "## Solución\n",
        "\n",
        "### Se puede hacer la suma y multiplicación en la misma operación a través de la multiplicacoón de matrices"
      ]
    },
    {
      "cell_type": "code",
      "metadata": {
        "id": "dbd-CQwyRQcv",
        "colab_type": "code",
        "outputId": "d3167de9-e538-4c5d-f7b7-821263840085",
        "colab": {
          "base_uri": "https://localhost:8080/",
          "height": 34
        }
      },
      "source": [
        "y = activation(torch.sum(features * weights) + bias)\n",
        "y"
      ],
      "execution_count": 0,
      "outputs": [
        {
          "output_type": "execute_result",
          "data": {
            "text/plain": [
              "tensor([[0.6140]])"
            ]
          },
          "metadata": {
            "tags": []
          },
          "execution_count": 7
        }
      ]
    },
    {
      "cell_type": "code",
      "metadata": {
        "id": "EPp7oPiaSZQQ",
        "colab_type": "code",
        "outputId": "7f8348da-f4d6-46e6-a203-92e8bd421b38",
        "colab": {
          "base_uri": "https://localhost:8080/",
          "height": 34
        }
      },
      "source": [
        "y = activation((features * weights).sum() + bias)\n",
        "y"
      ],
      "execution_count": 0,
      "outputs": [
        {
          "output_type": "execute_result",
          "data": {
            "text/plain": [
              "tensor([[0.6140]])"
            ]
          },
          "metadata": {
            "tags": []
          },
          "execution_count": 8
        }
      ]
    },
    {
      "cell_type": "markdown",
      "metadata": {
        "id": "n0YapPgHS0k8",
        "colab_type": "text"
      },
      "source": [
        "Si se intenta directamente la multiplicación entre `features` y `weights`, al tener el mismo tamaño (1,5), vamos a tener un error \n",
        "\n",
        "```python\n",
        "RuntimeError: size mismatch, m1: [1 x 5], m2: [1 x 5]\n",
        "```"
      ]
    },
    {
      "cell_type": "code",
      "metadata": {
        "id": "OCVY3jpNSfOP",
        "colab_type": "code",
        "outputId": "054b1240-611f-43a3-fda0-022c9093ff35",
        "colab": {
          "base_uri": "https://localhost:8080/",
          "height": 164
        }
      },
      "source": [
        "torch.mm(features, weights)"
      ],
      "execution_count": 0,
      "outputs": [
        {
          "output_type": "error",
          "ename": "RuntimeError",
          "evalue": "ignored",
          "traceback": [
            "\u001b[0;31m---------------------------------------------------------------------------\u001b[0m",
            "\u001b[0;31mRuntimeError\u001b[0m                              Traceback (most recent call last)",
            "\u001b[0;32m<ipython-input-9-8f55c3abfe5a>\u001b[0m in \u001b[0;36m<module>\u001b[0;34m()\u001b[0m\n\u001b[0;32m----> 1\u001b[0;31m \u001b[0mtorch\u001b[0m\u001b[0;34m.\u001b[0m\u001b[0mmm\u001b[0m\u001b[0;34m(\u001b[0m\u001b[0mfeatures\u001b[0m\u001b[0;34m,\u001b[0m \u001b[0mweights\u001b[0m\u001b[0;34m)\u001b[0m\u001b[0;34m\u001b[0m\u001b[0;34m\u001b[0m\u001b[0m\n\u001b[0m",
            "\u001b[0;31mRuntimeError\u001b[0m: size mismatch, m1: [1 x 5], m2: [1 x 5] at /pytorch/aten/src/TH/generic/THTensorMath.cpp:961"
          ]
        }
      ]
    },
    {
      "cell_type": "markdown",
      "metadata": {
        "id": "xkp2DYPsT02v",
        "colab_type": "text"
      },
      "source": [
        "Podemos conocer el tamaño de nuestros tensores"
      ]
    },
    {
      "cell_type": "code",
      "metadata": {
        "id": "B_gU1vMOTFvF",
        "colab_type": "code",
        "outputId": "3941c7eb-a2ae-490d-8a4e-8c2de625ad9b",
        "colab": {
          "base_uri": "https://localhost:8080/",
          "height": 34
        }
      },
      "source": [
        "features.shape"
      ],
      "execution_count": 0,
      "outputs": [
        {
          "output_type": "execute_result",
          "data": {
            "text/plain": [
              "torch.Size([1, 5])"
            ]
          },
          "metadata": {
            "tags": []
          },
          "execution_count": 10
        }
      ]
    },
    {
      "cell_type": "code",
      "metadata": {
        "id": "y_wmN1yIT1g4",
        "colab_type": "code",
        "outputId": "9730f7fe-4630-424c-82b0-e1e648c3e305",
        "colab": {
          "base_uri": "https://localhost:8080/",
          "height": 34
        }
      },
      "source": [
        "weights.shape"
      ],
      "execution_count": 0,
      "outputs": [
        {
          "output_type": "execute_result",
          "data": {
            "text/plain": [
              "torch.Size([1, 5])"
            ]
          },
          "metadata": {
            "tags": []
          },
          "execution_count": 11
        }
      ]
    },
    {
      "cell_type": "markdown",
      "metadata": {
        "id": "dkvgDKbRUSIm",
        "colab_type": "text"
      },
      "source": [
        "Tenemos varias alternativas:\n",
        "* `weights.reshape(a,b)` nos regresará un nuevo tensor con el tamaño (a,b) \n",
        "* `weights.resize_(a,b)` nos regresará el mismo tensor con diferente tamaño\n",
        "* `weights.view(a,b)` nos regresará un nuevo tensor con el tamaño (a,b) "
      ]
    },
    {
      "cell_type": "code",
      "metadata": {
        "id": "5ZNu4rIGT8Si",
        "colab_type": "code",
        "outputId": "81f64215-bb90-46f3-d99a-73bcc0430f9c",
        "colab": {
          "base_uri": "https://localhost:8080/",
          "height": 34
        }
      },
      "source": [
        "y = activation(torch.mm(features, weights.view(5,1)) + bias)\n",
        "\n",
        "y"
      ],
      "execution_count": 0,
      "outputs": [
        {
          "output_type": "execute_result",
          "data": {
            "text/plain": [
              "tensor([[0.6140]])"
            ]
          },
          "metadata": {
            "tags": []
          },
          "execution_count": 12
        }
      ]
    },
    {
      "cell_type": "markdown",
      "metadata": {
        "id": "XqW1EkDvYVwe",
        "colab_type": "text"
      },
      "source": [
        "Ahora que conocemos el algoritmo de una neurona, podemos comenzar a enlazar estas unidades en capas y montones de capas para formar una RNA.\n",
        "La salida de una neurona se convierte en una entrada de la siguiente capa. Conociendo que los problemas contienen múltiples \n",
        "unidades de entradas y salidas, necesitamos expresar ahora los pesos `weights` como una matriz.\n",
        " \n",
        "\n",
        "La primer capa, llamada `input layer`, son las entradas $(x_1, x_2, x_3)$. La segunda capa oculta, llamada `hidden layer` son las neuronas $(h_1, h_2)$. La tercer capa, llamada `output layer`, es la salida, en este caso podría ser $y$.\n",
        "\n",
        "Entonces esta RNA se puede expresar matemáticamente con matrices y utilizar la multiplicación de matrices. Por ejemplo, la capa oculta donde están las neuronas$(h_1,h_2)$ se puede calcular así:\n",
        "\n",
        "$$\n",
        "\\vec{h} = [h_1 \\, h_2] = \n",
        "\\begin{bmatrix}\n",
        "x_1 \\, x_2 \\cdots \\, x_n\n",
        "\\end{bmatrix}\n",
        "\\cdot \n",
        "\\begin{bmatrix}\n",
        "           w_{11} & w_{12} \\\\\n",
        "           w_{21} &w_{22} \\\\\n",
        "           \\vdots &\\vdots \\\\\n",
        "           w_{n1} &w_{n2}\n",
        "\\end{bmatrix}\n",
        "$$\n",
        "\n",
        "Y la salida de esta RNA es tomando a la capa oculta $\\vec{h}$ como entrada de la neurona de salida $y$ en la tercer capa \"de salida\""
      ]
    },
    {
      "cell_type": "markdown",
      "metadata": {
        "id": "-Nc4UiOTirh5",
        "colab_type": "text"
      },
      "source": [
        "Generamos datos"
      ]
    },
    {
      "cell_type": "code",
      "metadata": {
        "id": "ejrDbbpPVi4K",
        "colab_type": "code",
        "outputId": "a3f79795-2201-428f-b4f3-a5b992a148df",
        "colab": {
          "base_uri": "https://localhost:8080/",
          "height": 34
        }
      },
      "source": [
        "torch.manual_seed(7)"
      ],
      "execution_count": 0,
      "outputs": [
        {
          "output_type": "execute_result",
          "data": {
            "text/plain": [
              "<torch._C.Generator at 0x7ff07cb68950>"
            ]
          },
          "metadata": {
            "tags": []
          },
          "execution_count": 13
        }
      ]
    },
    {
      "cell_type": "markdown",
      "metadata": {
        "id": "EkQg7WxcjSIT",
        "colab_type": "text"
      },
      "source": [
        "Creamos 3 variables aleatorias"
      ]
    },
    {
      "cell_type": "code",
      "metadata": {
        "id": "IomhwDEajOJq",
        "colab_type": "code",
        "outputId": "22ba0f0a-470f-4a09-c9ad-b463d7e0ef75",
        "colab": {
          "base_uri": "https://localhost:8080/",
          "height": 34
        }
      },
      "source": [
        "features = torch.randn((1,3))\n",
        "features"
      ],
      "execution_count": 0,
      "outputs": [
        {
          "output_type": "execute_result",
          "data": {
            "text/plain": [
              "tensor([[-0.1468,  0.7861,  0.9468]])"
            ]
          },
          "metadata": {
            "tags": []
          },
          "execution_count": 14
        }
      ]
    },
    {
      "cell_type": "markdown",
      "metadata": {
        "id": "S31_2omTja66",
        "colab_type": "text"
      },
      "source": [
        "Definimos el tamaño de cada capa en la RNA\n",
        "\n",
        "`n_input`: número de neuronas de entradam, entonces debe ser del mismo tamaño que la entrada `features`"
      ]
    },
    {
      "cell_type": "code",
      "metadata": {
        "id": "S61Lo9GdjZke",
        "colab_type": "code",
        "outputId": "2c8e8082-ff15-4b51-9920-3f5b1fa4d61f",
        "colab": {
          "base_uri": "https://localhost:8080/",
          "height": 34
        }
      },
      "source": [
        "n_input = features.shape[1]\n",
        "n_input"
      ],
      "execution_count": 0,
      "outputs": [
        {
          "output_type": "execute_result",
          "data": {
            "text/plain": [
              "3"
            ]
          },
          "metadata": {
            "tags": []
          },
          "execution_count": 15
        }
      ]
    },
    {
      "cell_type": "markdown",
      "metadata": {
        "id": "TTdG2Aqmj2q-",
        "colab_type": "text"
      },
      "source": [
        "`n_hidden`: número de neuronas ocultas "
      ]
    },
    {
      "cell_type": "code",
      "metadata": {
        "id": "dnboizQsj1zz",
        "colab_type": "code",
        "colab": {}
      },
      "source": [
        "n_hidden = 2"
      ],
      "execution_count": 0,
      "outputs": []
    },
    {
      "cell_type": "markdown",
      "metadata": {
        "id": "xfmo6Zk7kIOX",
        "colab_type": "text"
      },
      "source": [
        "`n_output`: número de neuronas de salida"
      ]
    },
    {
      "cell_type": "code",
      "metadata": {
        "id": "GAsJqTQQkHaI",
        "colab_type": "code",
        "colab": {}
      },
      "source": [
        "n_output = 1"
      ],
      "execution_count": 0,
      "outputs": []
    },
    {
      "cell_type": "markdown",
      "metadata": {
        "id": "AJzQI7p2kSjY",
        "colab_type": "text"
      },
      "source": [
        "Generamos los pesos aleatorios para las neuronas que conectan la capa de entrada y la capa oculta"
      ]
    },
    {
      "cell_type": "code",
      "metadata": {
        "id": "2RsKhsp7kO6o",
        "colab_type": "code",
        "outputId": "a18b5865-6e88-403d-f186-2db077e42e9e",
        "colab": {
          "base_uri": "https://localhost:8080/",
          "height": 68
        }
      },
      "source": [
        "W1 = torch.randn(n_input, n_hidden)\n",
        "W1"
      ],
      "execution_count": 0,
      "outputs": [
        {
          "output_type": "execute_result",
          "data": {
            "text/plain": [
              "tensor([[-1.1143,  1.6908],\n",
              "        [-0.8948, -0.3556],\n",
              "        [ 1.2324,  0.1382]])"
            ]
          },
          "metadata": {
            "tags": []
          },
          "execution_count": 18
        }
      ]
    },
    {
      "cell_type": "markdown",
      "metadata": {
        "id": "QK-rWS4ik_VY",
        "colab_type": "text"
      },
      "source": [
        "Generamos los pesos aleatorios para las neuronas que conectan la capa oculta y la capa de salida"
      ]
    },
    {
      "cell_type": "code",
      "metadata": {
        "id": "8VWgWEzLlC9-",
        "colab_type": "code",
        "outputId": "abc73a0e-fc84-46cf-8c68-e22650043939",
        "colab": {
          "base_uri": "https://localhost:8080/",
          "height": 51
        }
      },
      "source": [
        "W2 = torch.randn(n_hidden, n_output)\n",
        "W2"
      ],
      "execution_count": 0,
      "outputs": [
        {
          "output_type": "execute_result",
          "data": {
            "text/plain": [
              "tensor([[-1.6822],\n",
              "        [ 0.3177]])"
            ]
          },
          "metadata": {
            "tags": []
          },
          "execution_count": 19
        }
      ]
    },
    {
      "cell_type": "markdown",
      "metadata": {
        "id": "DZWMXOHel0WE",
        "colab_type": "text"
      },
      "source": [
        "Generamos el sesgo para las neuronas de operación en las capas oculta y de salida"
      ]
    },
    {
      "cell_type": "code",
      "metadata": {
        "id": "2YZ2t4kplvB3",
        "colab_type": "code",
        "outputId": "6515b94f-0e68-4de8-ae35-41c7ac38d6ab",
        "colab": {
          "base_uri": "https://localhost:8080/",
          "height": 34
        }
      },
      "source": [
        "B1 = torch.randn((1, n_hidden))\n",
        "B1"
      ],
      "execution_count": 0,
      "outputs": [
        {
          "output_type": "execute_result",
          "data": {
            "text/plain": [
              "tensor([[0.1328, 0.1373]])"
            ]
          },
          "metadata": {
            "tags": []
          },
          "execution_count": 20
        }
      ]
    },
    {
      "cell_type": "code",
      "metadata": {
        "id": "m4qwIbS9l8u1",
        "colab_type": "code",
        "outputId": "16caadea-2c26-457b-8cb3-90ce45c5e467",
        "colab": {
          "base_uri": "https://localhost:8080/",
          "height": 34
        }
      },
      "source": [
        "B2 = torch.randn((1, n_output))\n",
        "B2"
      ],
      "execution_count": 0,
      "outputs": [
        {
          "output_type": "execute_result",
          "data": {
            "text/plain": [
              "tensor([[0.2405]])"
            ]
          },
          "metadata": {
            "tags": []
          },
          "execution_count": 21
        }
      ]
    },
    {
      "cell_type": "markdown",
      "metadata": {
        "id": "4Ym2S3S6buEF",
        "colab_type": "text"
      },
      "source": [
        "# RNA usando multiplicación entre matrices"
      ]
    },
    {
      "cell_type": "markdown",
      "metadata": {
        "id": "iZn5U3DRmImq",
        "colab_type": "text"
      },
      "source": [
        "## Problema\n",
        "\n",
        "### Calcular la salida de esta RNA (multicapa) usando los pesos `weights` `W1`y `W2`, y el sesgo `bias` `B1` y `B2`"
      ]
    },
    {
      "cell_type": "markdown",
      "metadata": {
        "id": "Kuy7-3Gbmoxi",
        "colab_type": "text"
      },
      "source": [
        "## Solución\n",
        "### "
      ]
    },
    {
      "cell_type": "code",
      "metadata": {
        "id": "HqB1pnoSmCot",
        "colab_type": "code",
        "outputId": "95484d61-4c54-410e-99d4-e4f23687cd9a",
        "colab": {
          "base_uri": "https://localhost:8080/",
          "height": 34
        }
      },
      "source": [
        "h = activation(torch.mm(features, W1) + B1)\n",
        "h"
      ],
      "execution_count": 0,
      "outputs": [
        {
          "output_type": "execute_result",
          "data": {
            "text/plain": [
              "tensor([[0.6813, 0.4355]])"
            ]
          },
          "metadata": {
            "tags": []
          },
          "execution_count": 22
        }
      ]
    },
    {
      "cell_type": "code",
      "metadata": {
        "id": "ZMy3aG3em1Yp",
        "colab_type": "code",
        "outputId": "5f2a0aae-1775-4e5e-ea58-ce7f154b00a8",
        "colab": {
          "base_uri": "https://localhost:8080/",
          "height": 34
        }
      },
      "source": [
        "output = activation(torch.mm(h, W2) + B2)\n",
        "output"
      ],
      "execution_count": 0,
      "outputs": [
        {
          "output_type": "execute_result",
          "data": {
            "text/plain": [
              "tensor([[0.3171]])"
            ]
          },
          "metadata": {
            "tags": []
          },
          "execution_count": 23
        }
      ]
    },
    {
      "cell_type": "markdown",
      "metadata": {
        "id": "pgIDWL5MpOMZ",
        "colab_type": "text"
      },
      "source": [
        "Si todo sale bien, y por tener la misma semilla, deberíamos tener el mismo resultado `tensor([[ 0.3171]])`"
      ]
    },
    {
      "cell_type": "markdown",
      "metadata": {
        "id": "y3NuDFqKqgZ_",
        "colab_type": "text"
      },
      "source": [
        "El número de neuronas de operación en la capa oculta es un hyperparámetro de la RNA, llamado así para diferenciarlo de los parámetros pesos `weights` y sesgos `bias`"
      ]
    },
    {
      "cell_type": "markdown",
      "metadata": {
        "id": "IQo7g4tLqtIl",
        "colab_type": "text"
      },
      "source": [
        "Como se puede intuir, entre más neuronas de operación se agregan a la capa oculta, y a la par agregando más capas ocultas, ¿a la RNA le será mejor para \"aprender\" de los datos?"
      ]
    }
  ]
}